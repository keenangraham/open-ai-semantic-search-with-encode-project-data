{
 "cells": [
  {
   "cell_type": "markdown",
   "id": "095d6845",
   "metadata": {},
   "source": [
    "## Semantic search with OpenAI `text-embedding-ada-002` embeddings."
   ]
  },
  {
   "cell_type": "markdown",
   "id": "1ab3ac48",
   "metadata": {},
   "source": [
    "Here's an example of using the underlying Python library for calculating embeddings on a custom set of documents, and finding the _k_ most similar documents given a custom query or an existing document."
   ]
  },
  {
   "cell_type": "code",
   "execution_count": 6,
   "id": "828e721c",
   "metadata": {},
   "outputs": [],
   "source": [
    "import requests\n",
    "\n",
    "import openai as openai_client # Assumes OPENAI_API_KEY is defined in environment\n",
    "\n",
    "from ssed.remote.openai import OpenAI\n",
    "from ssed.remote.openai import OpenAIProps\n",
    "\n",
    "from ssed.embeddings import Embeddings\n",
    "from ssed.embeddings import EmbeddingsProps"
   ]
  },
  {
   "cell_type": "markdown",
   "id": "7d4f7f28",
   "metadata": {},
   "source": [
    "Get a few example Award documents (with select fields):"
   ]
  },
  {
   "cell_type": "code",
   "execution_count": 2,
   "id": "5aba36fb",
   "metadata": {},
   "outputs": [
    {
     "data": {
      "text/plain": [
       "{'@id': '/awards/R01GM083337/',\n",
       " '@type': ['Award', 'Item'],\n",
       " 'description': 'Abnormal temporal control of replication is observed in many diseases but causal linkages are unknown. This gap will remain incomprehensible until the mechanisms regulating replication timing during normal development are understood. The long-term goal is to understand the relationship of replication timing to cellular epigenetic states and disease. The immediate goal is to identify cis-acting DNA/chromatin elements that regulate changes in replication timing during differentiation of mouse embryonic stem cells (ESCs). Mouse ESCs are an ideal experimental system due to the availability of chromosome engineering tools, directed cell differentiation systems, and comprehensive genome-wide maps of replication timing and transcription. These maps have identified the molecular coordinates of programmed changes in replication timing that occur in 400-800kb units termed \"replication domains\". The central hypothesis is that discrete identifiable chromatin or DNA sequence features dictate the boundaries of replication domains and the developmentally induced changes in their replication time. The rationale for this proposal is that identifying DNA/chromatin elements regulating replication timing is the essential next step in elucidating mechanisms regulating replication timing and its relationship to disease. Aim1 will test the hypothesis that replication domains are fundamental units of chromosome structure and function that can be transferred to an ectopic location. Large pieces of cloned genomic DNA from a developmentally regulated replication domain will be introduced into a region of constitutive replication timing. Repli- cation timing of the insert and flanking DNA will be monitored during differentiation to identify the minimal sequences constituting a unit of regulation. Aim2 will distinguish between models in which specific boundary elements punctuate temporally distinct domains vs. models of boundaries as passively replicated chromatin between actively programmed domains. Nested deletions will be engineered in developmentally controlled replication timing transition regions and the effects of deletions on the regulation of replication timing will be determined. Aim3 will test the hypothesis that transcription within a silent late replicating domain initiates a switch to early replication. Promoter and regulatory elements controlling transcription within a developmentally regulated replication domain will be deleted, replaced with an inducible promoter, and the effects of such manipulations on the regulation of replication timing will be analyzed. Studies described here will identify cis-acting elements regulating the developmental control of replication timing. This contribution is significant because identifying regulatory elements of replication timing control is a pre-requisite to understanding the role of replication timing in chromosome-based diseases. The work proposed here is innovative in that it proposes a novel combination of chromosome engineering and directed embryonic stem cell (ESC) differentiation to address the mechanisms eliciting developmentally programmed changes in replication timing.',\n",
       " 'pi': {'title': 'David Gilbert'},\n",
       " 'rfa': 'ENCODE3',\n",
       " 'title': 'CIS-ACTING ELEMENTS REGULATING DEVELOPMENTAL CONTROL OF REPLICATION TIMING'}"
      ]
     },
     "execution_count": 2,
     "metadata": {},
     "output_type": "execute_result"
    }
   ],
   "source": [
    "url = (\n",
    "    'https://www.encodeproject.org'\n",
    "    '/search/?type=Award&frame=object&format=json'\n",
    "    '&field=pi.title&field=description&field=title&field=rfa'\n",
    ")\n",
    "response = requests.get(url)\n",
    "documents = response.json()['@graph']\n",
    "documents[0]"
   ]
  },
  {
   "cell_type": "code",
   "execution_count": 51,
   "id": "ce16fd93",
   "metadata": {},
   "outputs": [
    {
     "data": {
      "text/plain": [
       "['CIS-ACTING ELEMENTS REGULATING DEVELOPMENTAL CONTROL OF REPLICATION TIMING',\n",
       " 'GENOME-WIDE MAPPING OF CHROMOSOMAL PROTEINS IN DROSOPHILIA',\n",
       " 'GENCODE: COMPREHENSIVE GENOME ANNOTATION FOR HUMAN AND MOUSE',\n",
       " 'IDENTIFICATION OF FUNCTIONAL DNA ELEMENTS BY HSQPCR',\n",
       " 'A CATALOG OF CELL TYPES AND GENOMIC ELEMENTS IN TISSUES, ORGANOIDS AND DISEASE',\n",
       " 'WHOLE GENOME CHROMATIN INTERACTION ANALYSIS USING PAIR-END-DITAGGING (CIA-PET)',\n",
       " 'FUNCTIONALLY SPECIALIZED COMPONENTS OF DISEASE HERITABILITY IN ENCODE DATA',\n",
       " 'Unattributed',\n",
       " 'DECODING THE REGULATORY ARCHITECTURE OF THE HUMAN GENOME ACROSS CELL TYPES, INDIVIDUALS AND DISEASE',\n",
       " 'Unsupervised machine learning methods that discover the molecular programs underlying cellular biology',\n",
       " 'A COMPREHENSIVE CATALOG OF DNASEI HYPERSENSITIVE SITES',\n",
       " 'HIGH-THROUGHPUT FUNCTIONAL CHARACTERIZATION OF HUMAN ENHANCERS',\n",
       " 'HIGH THROUGHPUT CRISPR-MEDIATED FUNCTIONAL VALIDATION OF REGULATORY ELEMENTS',\n",
       " 'ANALYSIS OF FUNCTIONAL GENETIC VARIANTS IN RNA PROCESSING AND EXPRESSION',\n",
       " 'PRODUCTION CENTER FOR GLOBAL MAPPING OF REGULATORY ELEMENTS',\n",
       " 'EPIGENOMICS DATA ANALYSIS AND COORDINATION CENTER AT BAYLOR COLLEGE OF MEDICINE',\n",
       " 'MOUSE X INACTIVATION',\n",
       " 'Big Data Methods for Decoding Gene Regulation',\n",
       " 'IDENTIFICATION OF TRANSCRIPTIONAL FACTOR BINDING SITES IN HUMAN PROMOTERS',\n",
       " 'NIH Exploratory/Developmental Research Grant Award, Conesa Lab',\n",
       " 'COMPREHENSIVE DISCOVERY OF FUNCTIONAL ELEMENTS OF THE DROSPHILA TRANSCRIPTOME',\n",
       " 'COMPREHENSIVE ANALYSIS OF FUNCTIONAL RNA ELEMENTS ENCODED IN THE HUMAN GENOME',\n",
       " 'EDAC: ENCODE DATA ANALYSIS CENTER',\n",
       " 'NUCLEOME POSITIONING SYSTEM FOR SPATIOTEMPORAL GENOME ORGANIZATION AND REGULATION',\n",
       " 'RULES OF GENE EXPRESSION MODELED ON HUMAN DENDRITIC CELL RESPONSE TO PATHOGENS']"
      ]
     },
     "execution_count": 51,
     "metadata": {},
     "output_type": "execute_result"
    }
   ],
   "source": [
    "[doc['title'] for doc in documents]"
   ]
  },
  {
   "cell_type": "code",
   "execution_count": 46,
   "id": "928a6e56",
   "metadata": {},
   "outputs": [
    {
     "name": "stdout",
     "output_type": "stream",
     "text": [
      "25\n"
     ]
    }
   ],
   "source": [
    "print(len(documents))"
   ]
  },
  {
   "cell_type": "markdown",
   "id": "c2d490d0",
   "metadata": {},
   "source": [
    "Create an `Embeddings` object from the documents:"
   ]
  },
  {
   "cell_type": "code",
   "execution_count": 10,
   "id": "e9fb435b",
   "metadata": {},
   "outputs": [],
   "source": [
    "openai = OpenAI(\n",
    "    props=OpenAIProps(\n",
    "        embedding_client=openai_client.Embedding\n",
    "    )\n",
    ")\n",
    "\n",
    "embeddings = Embeddings.from_documents(\n",
    "    props=EmbeddingsProps(\n",
    "        openai=openai\n",
    "    ),\n",
    "    documents=documents,\n",
    "    id_key='@id'\n",
    ")"
   ]
  },
  {
   "cell_type": "markdown",
   "id": "8dddbfb9",
   "metadata": {},
   "source": [
    "Calculate the embedding values:"
   ]
  },
  {
   "cell_type": "code",
   "execution_count": 11,
   "id": "2b922d79",
   "metadata": {},
   "outputs": [
    {
     "data": {
      "text/plain": [
       "array([[-0.03312446,  0.00638379, -0.00196582, ..., -0.00536663,\n",
       "         0.00491456, -0.02282272],\n",
       "       [-0.03454168, -0.00143894, -0.02220738, ...,  0.00072738,\n",
       "        -0.01035125, -0.00953553],\n",
       "       [-0.02822752, -0.00126266, -0.01149023, ..., -0.0355229 ,\n",
       "        -0.00266562, -0.00618003],\n",
       "       ...,\n",
       "       [-0.02541946,  0.00930381, -0.01822204, ..., -0.01340948,\n",
       "        -0.02533377, -0.00939663],\n",
       "       [-0.02193064,  0.01178017, -0.01062814, ..., -0.02159346,\n",
       "        -0.01869935, -0.02731145],\n",
       "       [-0.03558172,  0.01007418, -0.01048537, ..., -0.02404096,\n",
       "        -0.01983311, -0.01965492]])"
      ]
     },
     "execution_count": 11,
     "metadata": {},
     "output_type": "execute_result"
    }
   ],
   "source": [
    "embeddings.get_values()"
   ]
  },
  {
   "cell_type": "code",
   "execution_count": 58,
   "id": "693d7536",
   "metadata": {},
   "outputs": [
    {
     "data": {
      "text/plain": [
       "[(11, 0.8191637486093268), (17, 0.815446654778106), (14, 0.8153190754152267)]"
      ]
     },
     "execution_count": 58,
     "metadata": {},
     "output_type": "execute_result"
    }
   ],
   "source": [
    "crispr_results = embeddings.get_k_results_most_similar_to_query(\n",
    "    query='crispr',\n",
    "    k=3\n",
    ")\n",
    "crispr_results"
   ]
  },
  {
   "cell_type": "code",
   "execution_count": 64,
   "id": "77ba35b4",
   "metadata": {},
   "outputs": [],
   "source": [
    "def print_results(indices_and_scores, embeddings, description_max=1500):\n",
    "    for index, score in indices_and_scores:\n",
    "        print('\\nID:', embeddings.documents[index]['@id'])\n",
    "        print('Title:', embeddings.documents[index]['title'])\n",
    "        print('Lab:', embeddings.documents[index]['pi']['title'])\n",
    "        print('Description:', embeddings.documents[index]['description'][:description_max] + '...')\n",
    "        print('Similarity score:', score)"
   ]
  },
  {
   "cell_type": "code",
   "execution_count": 66,
   "id": "ae9c9aaa",
   "metadata": {},
   "outputs": [
    {
     "name": "stdout",
     "output_type": "stream",
     "text": [
      "\n",
      "ID: /awards/UM1HG009393/\n",
      "Title: HIGH-THROUGHPUT FUNCTIONAL CHARACTERIZATION OF HUMAN ENHANCERS\n",
      "Lab: John Lis\n",
      "Description: Specific enhancers interact with promoters to specify the cellular pattern, timing, and levels of gene expression. Enhancers can reside up to megabases away from their target gene promoters and strongly activate transcription. Aim 1 will characterize active enhancer elements and their relationship to promoter elements in vivo in human K562 (a tier 1 ENCODE cell line) by testing a broad array of Transcription Regulatory Elements (TREs) for their enhancer activity using eSTARR-seq, our modified element-clone- compatible STARR-seq assay. This collection of TREs will be selected based on a variety of criteria established by ENCODE and others. Large numbers of selected TREs can be handled using our new Clone- seq method, and then tested for enhancer activity by eSTARR-seq. For the TREs that have significant enhancer activity, ~10,000 synthetic mutations will be generated that are designed to destroy distinct TF binding motifs found within each enhancer. We will generate mutant clones using our en masse Clone-seq2 method and examine their impact on enhancer activity using eSTARR-seq. These data will be used to understand the underlying molecular architecture and function of enhancers and promoters. Aim 2 generates K562 cell lines using CRISPR/Cas9 that contain critical synthetic enhancer mutations identified in Aim 1. PRO- seq assays can then be used to measure with high sensitivity and resolution the transcription at the variant enhancers as well as all TREs and transcription unit...\n",
      "Similarity score: 0.8191637486093268\n",
      "\n",
      "ID: /awards/R01HG009518/\n",
      "Title: Big Data Methods for Decoding Gene Regulation\n",
      "Lab: Hongkai Ji\n",
      "Description: Project Summary A comprehensive understanding of how genes' activities are controlled temporally and spatially is crucial for studying human development and diseases. Transcription factors (TFs) are an important class of regulatory proteins that can control genes' transcriptional activities by binding to target genes' regulatory DNA sequences called cis-regulatory elements (CREs). A map of genome-wide activities of CREs, or “regulome”, in all cell types and biological conditions will provide a foundation for investigating the basic operating rules of biology, interpreting how genetic variants cause diseases, and guiding the development of disease treatment strategies. Unfortunately, existing experimental regulome mapping technologies cannot analyze a large number of samples efﬁciently. Thus far, they have only been applied to map regulomes in a small fraction of all biological contexts. As a result, today a comprehensive map of human regulatory landscape is still lacking. This study aims to develop a solution to mapping regulomes in a massive number of biological samples from diverse cell types and conditions by leveraging publicly available functional genomic data. We will use the rich gene expression and regulome data generated by the Encyclopedia of DNA Elements (ENCODE) project to develop a new prediction approach that predicts a biological sample's regulome using its transcriptome (Aim 1). We will then apply the trained prediction models to 290,000+ publicly available hu...\n",
      "Similarity score: 0.815446654778106\n",
      "\n",
      "ID: /awards/U54HG004558/\n",
      "Title: PRODUCTION CENTER FOR GLOBAL MAPPING OF REGULATORY ELEMENTS\n",
      "Lab: Michael Snyder\n",
      "Description: Mapping regulatory information throughout the human genome is essential for both determining the function of the human genome and for understanding human development and disease. We propose to establish a high throughput production facility to identify the DNA binding sites for transcription factors and chromatin modifying proteins in human cells. Transcription factor targets, chromatin modifications and modifying enzymes will be mapped across the genome using chromatin immunoprecipitation experiments. This binding information will be validated and analyzed to ensure that it is of high quality and then compared to other genomic annotations. Our three aims are: 1) To establish a production facility for mapping targets of transcription factors. The pipeline will consist of five components: a) cell preparation, b) antibody validation and chromatin immunoprecipitation, c) DNA target analysis, d) target validation and e) sample tracking and databases. 2) To use the pipeline to map targets of 600 transcription factors, chromatin modifications and chromatin modifying enzymes in at least two major cell lines (HeLa S3 and HepG2), and targets of other factors in additional cell lines. 3) To maintain our results in a database and also make them accessible through public databases. We will interrelate our genomic annotations with those determined by other groups (particularly those from the ENCODE consortium), focusing on correlating patterns of transcription-factor binding and chromatin...\n",
      "Similarity score: 0.8153190754152267\n"
     ]
    }
   ],
   "source": [
    "print_results(crispr_results, embeddings)"
   ]
  },
  {
   "cell_type": "code",
   "execution_count": 67,
   "id": "930dec76",
   "metadata": {},
   "outputs": [
    {
     "data": {
      "text/plain": [
       "[(0, 1.000000068437994), (24, 0.8899324659385169), (5, 0.8851815932001575)]"
      ]
     },
     "execution_count": 67,
     "metadata": {},
     "output_type": "execute_result"
    }
   ],
   "source": [
    "similar_awards = embeddings.get_k_results_most_similar_to_id(\n",
    "    '/awards/R01GM083337/',\n",
    "    k=3\n",
    ")\n",
    "similar_awards"
   ]
  },
  {
   "cell_type": "code",
   "execution_count": 68,
   "id": "448ddb99",
   "metadata": {
    "scrolled": false
   },
   "outputs": [
    {
     "name": "stdout",
     "output_type": "stream",
     "text": [
      "\n",
      "ID: /awards/R01GM083337/\n",
      "Title: CIS-ACTING ELEMENTS REGULATING DEVELOPMENTAL CONTROL OF REPLICATION TIMING\n",
      "Lab: David Gilbert\n",
      "Description: Abnormal temporal control of replication is observed in many diseases but causal linkages are unknown. This gap will remain incomprehensible until the mechanisms regulating replication timing during normal development are understood. The long-term goal is to understand the relationship of replication timing to cellular epigenetic states and disease. The immediate goal is to identify cis-acting DNA/chromatin elements that regulate changes in replication timing during differentiation of mouse embryonic stem cells (ESCs). Mouse ESCs are an ideal experimental system due to the availability of chromosome engineering tools, directed cell differentiation systems, and comprehensive genome-wide maps of replication timing and transcription. These maps have identified the molecular coordinates of programmed changes in replication timing that occur in 400-800kb units termed \"replication domains\". The central hypothesis is that discrete identifiable chromatin or DNA sequence features dictate the boundaries of replication domains and the developmentally induced changes in their replication time. The rationale for this proposal is that identifying DNA/chromatin elements regulating replication timing is the essential next step in elucidating mechanisms regulating replication timing and its relationship to disease. Aim1 will test the hypothesis that replication domains are fundamental units of chromosome structure and function that can be transferred to an ectopic location. Large pieces of cl...\n",
      "Similarity score: 1.000000068437994\n",
      "\n",
      "ID: /awards/U01HG007910/\n",
      "Title: RULES OF GENE EXPRESSION MODELED ON HUMAN DENDRITIC CELL RESPONSE TO PATHOGENS\n",
      "Lab: Jeremy Luban\n",
      "Description: The developmental shifts that occur when cells respond to environmental stimuli are controlled in large part by gene expression programs involving thousands of genes. Transcription factors (TFs), chromatin modifying enzymes, and cis-acting DNA elements contribute to the networks that underlie such programs. The code that links these variables in such a way that the expression of a given gene can be predicted based on the presence of specific components has yet to be deciphered. A model for such a code will be constructed here based on genome-wide analysis of human dendritic cells (DCs) as they mature in response to pathogens. DCs are antigen-presenting cells that initiate and determine the quality and magnitude of the host immune response. Recent technical advances in stem cell biology, reverse-genetic tools for primary human cells, and genome-wide assessment of transcripts, local chromatin features and long-range chromatin interactions, will be exploited here to construct a model for the transcriptional regulatory network that underlies pathogen detection and maturation in human DCs. In Aim 1, DCs will be sampled in a time-course following stimulation with LPS. Stimulation-responsive genes will be identified by RNA-Seq. Chromatin features will be mapped using ChIP-Seq, high-resolution global DNA foot printing, and Hi-C. This systematic map of all responsive genes and the regulatory regions associated with them will be combined with known DNA-binding motifs to generate an ini...\n",
      "Similarity score: 0.8899324659385169\n",
      "\n",
      "ID: /awards/R01HG004456/\n",
      "Title: WHOLE GENOME CHROMATIN INTERACTION ANALYSIS USING PAIR-END-DITAGGING (CIA-PET)\n",
      "Lab: Yijun Ruan\n",
      "Description: Systematic efforts led by the ENCODE project are underway to characterize all functional DNA elements in the human genome. A growing amount of data generated by ourselves and others has shown that a large portion of the putative regulatory elements are localized far away from gene coding regions. This observation cannot be explained by a simple linear relationship of locations along the genome, and we are unable to address non-linear interactions between functional DNA elements using current technologies. Our goal is to develop an unbiased, whole genome approach for the identification of chromatin interactions involved in transcriptional regulation and other structural and functional roles in the genome. The principal concept of our approach is to use a specially designed DNA oligonucleotide sequence to link different DNA fragments that are non-linearly related in the genome but brought together in close spatial proximity by protein factors in vivo, and extract paired end ditag sequences from the ligated DNA fragments based on the features of the DNA linker. This is followed by mapping the tags to the reference genome sequence, hence revealing the relationship between the paired DNA fragments. The specific aims of this proposal are: 1. To develop an unbiased, whole genome approach for the characterization of long-range chromatin interactions involved in transcription regulation. We developed a prototype protocol for CIA-PET analysis that can extract ditags from the linker-lig...\n",
      "Similarity score: 0.8851815932001575\n"
     ]
    }
   ],
   "source": [
    "print_results(similar_awards, embeddings)"
   ]
  },
  {
   "cell_type": "code",
   "execution_count": 69,
   "id": "2dbdbd2f",
   "metadata": {
    "scrolled": false
   },
   "outputs": [
    {
     "data": {
      "text/plain": [
       "[{'@id': '/awards/R01GM083337/',\n",
       "  '@type': ['Award', 'Item'],\n",
       "  'description': 'Abnormal temporal control of replication is observed in many diseases but causal linkages are unknown. This gap will remain incomprehensible until the mechanisms regulating replication timing during normal development are understood. The long-term goal is to understand the relationship of replication timing to cellular epigenetic states and disease. The immediate goal is to identify cis-acting DNA/chromatin elements that regulate changes in replication timing during differentiation of mouse embryonic stem cells (ESCs). Mouse ESCs are an ideal experimental system due to the availability of chromosome engineering tools, directed cell differentiation systems, and comprehensive genome-wide maps of replication timing and transcription. These maps have identified the molecular coordinates of programmed changes in replication timing that occur in 400-800kb units termed \"replication domains\". The central hypothesis is that discrete identifiable chromatin or DNA sequence features dictate the boundaries of replication domains and the developmentally induced changes in their replication time. The rationale for this proposal is that identifying DNA/chromatin elements regulating replication timing is the essential next step in elucidating mechanisms regulating replication timing and its relationship to disease. Aim1 will test the hypothesis that replication domains are fundamental units of chromosome structure and function that can be transferred to an ectopic location. Large pieces of cloned genomic DNA from a developmentally regulated replication domain will be introduced into a region of constitutive replication timing. Repli- cation timing of the insert and flanking DNA will be monitored during differentiation to identify the minimal sequences constituting a unit of regulation. Aim2 will distinguish between models in which specific boundary elements punctuate temporally distinct domains vs. models of boundaries as passively replicated chromatin between actively programmed domains. Nested deletions will be engineered in developmentally controlled replication timing transition regions and the effects of deletions on the regulation of replication timing will be determined. Aim3 will test the hypothesis that transcription within a silent late replicating domain initiates a switch to early replication. Promoter and regulatory elements controlling transcription within a developmentally regulated replication domain will be deleted, replaced with an inducible promoter, and the effects of such manipulations on the regulation of replication timing will be analyzed. Studies described here will identify cis-acting elements regulating the developmental control of replication timing. This contribution is significant because identifying regulatory elements of replication timing control is a pre-requisite to understanding the role of replication timing in chromosome-based diseases. The work proposed here is innovative in that it proposes a novel combination of chromosome engineering and directed embryonic stem cell (ESC) differentiation to address the mechanisms eliciting developmentally programmed changes in replication timing.',\n",
       "  'pi': {'title': 'David Gilbert'},\n",
       "  'rfa': 'ENCODE3',\n",
       "  'title': 'CIS-ACTING ELEMENTS REGULATING DEVELOPMENTAL CONTROL OF REPLICATION TIMING'},\n",
       " {'@id': '/awards/U01HG004258/',\n",
       "  '@type': ['Award', 'Item'],\n",
       "  'description': \"The generation of complete or nearly complete eukaryotic genome sequences has produced an explosion of insights into the coding potential and evolution of genomes. However, we have less information about how key processes involving DMA are regulated, including transcription, replication, repair, and chromosome segregation. DMA sequence alone cannot be expected to reveal the mechanisms involved in genome regulation and inheritance, because these processes do not act on 'naked' DMA. In the context of the cell, DMA is packaged as chromatin, whose composition and organization regulate the accessibility and function of DMA sequences. Chromatin displays increasingly complex levels of organization and composition, starting with the basic nucleosome unit and progressing through higher order structures. Chromatin organization is critical for utilizing information stored in the genome; failure to accurately target or maintain chromosomal proteins and chromatin components results in aberrant patterns of gene expression and chromosome behavior, and is associated with many human diseases, most notably cancer. We propose to participate in the MODENCODE project by determining the locations of 125 chromosomal proteins and histone modifications across the Drosophila melanogaster genome. The proteins and modifications under study are involved in basic chromosomal functions such as DNA replication, gene expression, gene silencing, and inheritance. We will perform Chromatin ImmunoPrecipitation (ChIP) with antibodies obtained commercially and generated and validated by this project, isolate and label the precipitated DNA, and apply the probes to genomic tiling arrays. Data generated by scanning the hybridized arrays will be analyzed by statistical methods, and the array data will be validated by independent analyses in cells and animals. We will initially assay localizations using chromatin from three cell lines and two embryonic stages, and will then extend the analysis of a subset of proteins to four additional animal tissues/stages. We will then perform a variety of comparisons between protein 'landscape' data sets, including analyses of combinatorial patterns of modifications and chromosomal proteins, tissue-specific differences, and interactions among proteins involved in the same epigenetic pathways. Finally, all validated data and analyses will be made available to members of the ENCODE project and scientific community. Successful completion of this project will provide basic information about the distributions of chromatin components across the Drosophila genome sequence, which will serve as a foundation for future functional studies. In addition, the data and analysis are highly likely to provide information critical to understanding the roles of chromatin in human cells and diseases.\",\n",
       "  'pi': {'title': 'Gary Karpen'},\n",
       "  'rfa': 'modENCODE',\n",
       "  'title': 'GENOME-WIDE MAPPING OF CHROMOSOMAL PROTEINS IN DROSOPHILIA'},\n",
       " {'@id': '/awards/U41HG007234/',\n",
       "  '@type': ['Award', 'Item'],\n",
       "  'description': \"OVERALL - PROJECT SUMMARY The objective of the GENCODE consortium is to create a foundational reference genome annotation, in which all gene features in the human and mouse genomes are identified and classified with high accuracy based on biological evidence, and then to release these annotations for the benefit of biomedical research and genome interpretation. GENCODE aims for a better understanding of a `normal' human genome; using genome sequences of the most commonly used mouse strains will facilitate the most effective use of these key models for large-scale knockout analysis and disease-specific research. To produce regular annotation releases of high accuracy, GENCODE will continue to follow its well-established and conservative research design, supplemented by targeted investigations into the value of new technologies, new data and new sources of evidence. GENCODE focuses on protein-coding and non-coding loci, including their alternatively spliced isoforms and pseudogenes. Over the course of this proposal GENCODE will follow major directions in genomics, including graph- based genome representations, long-read transcriptome sequencing, connecting genes and the associated regulatory regions that affect their transcription, and identifying genes that are not present on the current reference assembly. The GENCODE consortium has four fundamental components: (1) a comprehensive gene annotation pipeline leveraging manual annotation; (2) an integrated approach to pseudogene identification and classification; (3) a set of computational methods to evaluate and enhance gene annotation; and (4) complementary experimental pipelines for validation and functional annotation. More specifically, in the next four years GENCODE aims to (1) extend the human and mouse GENCODE gene sets to as near completion as possible given current experimental technology; (2) deploy population-based genome annotation to ensure that any transcript isoform expressed in an individual human will be present in the reference annotation set; (3) extend the gene annotation to include core regulatory regions and tissue-specific enhancers from selected datasets; (4) to distribute GENCODE annotations and engage with community annotation efforts. Current popular distribution channels for GENCODE data including the GENCODE web site, the Ensembl and UCSC Genome Browsers, will be maintained. Finally, new mechanisms for prioritizing genes for manual annotation with community input will be established, with the long-term aim of establishing GENCODE as the standard annotation set for research and clinical genomics efforts.\",\n",
       "  'pi': {'title': 'Paul Flicek'},\n",
       "  'rfa': 'community',\n",
       "  'title': 'GENCODE: COMPREHENSIVE GENOME ANNOTATION FOR HUMAN AND MOUSE'},\n",
       " {'@id': '/awards/U01HG003161/',\n",
       "  '@type': ['Award', 'Item'],\n",
       "  'description': \"The overall aim of this research proposal is to apply functional methodology (initially developed at UW and adapted to high throughput by Regulome Corporation) for quantitative chromatin profiling to delineate the functional DNA elements across 30 megabases of human genome sequence selected by the ENCODE working group (the 'ENCODE regions'). First we will produce a quantitative chromatin profile of the ENCODE regions in a human lymphoblastoid cell line. This profile will enable precise localization of all major Dnasel-hypersensitive sites ('HSs' hereafter). Quantification of sequence-specific Dnasel sensitivity will be accomplished through application of a novel, tested high-throughput quantitative real-time PCR assay ('Hypersensitivity qPCR' or 'HSqPCR'). A specialized primer set that spans the ENCODE regions at high resolution will be designed and synthesized. This primer set will be employed in all the experiments. Second, we will produce quantitative chromatin profiles of the ENCODE regions in 3 additional cell types derived from the 3 major embryonic lineages (endoderm, mesoderm, ectoderm). These profiles will enable localization of all major HSs present in each tissue type. The profiles, in combination with that of lymphoid cells, will further enable identification of tissue or lineage-restricted HSs and also of sites present in multiple lineages. Third, we will perform confirmatory validation experiments on identified HSs using high-resolution hypersensitivity Southerns. Hypersensitivity Southerns represent an extensively applied 'gold-standard' methodology for identification of HSs. 250 sites per year will be selected from those identified with the high throughput method and validated with this independent methodology. Fourth, the quantitative chromatin profiles produced will be subjected to detailed computational analysis with the aim of determining the correspondence between HSs and evolutionarily-conserved non-coding sequences. Parallel analyses will focus on identification of DNA sequence motifs associated with tissue-specific, lineage-specific, or multilineage HSs. Algorithms for identification and classification of HSs in the human genome will be developed and tested. The performance of selected published algorithms for identification of active regulatory sequences will also be evaluated. It is expected that this research effort will result in the identification of the majority (if not all) of the regulatory elements of the ENCODE regions, and will provide information on the feasibility of the application of this functional approach to the identification of all regulatory elements of the human genome.\",\n",
       "  'pi': {'title': 'George Stamatoyannopoulos'},\n",
       "  'rfa': 'ENCODE',\n",
       "  'title': 'IDENTIFICATION OF FUNCTIONAL DNA ELEMENTS BY HSQPCR'},\n",
       " {'@id': '/awards/UM1HG009390/',\n",
       "  '@type': ['Award', 'Item'],\n",
       "  'description': \"Project Summary The proposed project aims to fundamentally advance the ENCODE Consortium's catalog of functional sequence elements in the human genome. ENCODE has already established a seminal resource that is enabling human biology, genetics and disease research. However, progress towards the Consortium's goal of identifying all functional genomic elements has been constrained by modest assay throughput and by the fact that functional elements tend to be exquisitely context-specific, only declaring themselves in specific developmental intervals, in specific disease settings, or in specific cell types obscured by tissue heterogeneity. To overcome these limitations and hasten progress towards ENCODE goals, the proposed project will purify highly specialized cell types from normal human tissues and blood, from tumors and other disease specimens, and from laboratory 'organoid' models that faithfully recapitulate developing brain, kidney or gut. These purified cell types will be applied to a multiplexed pipeline capable of acquiring genome-wide chromatin state maps with unprecedented throughput and low cost. Thousands of maps reflecting different chromatin modifications in different cell types will be integrated to derive a comprehensive set of sequence elements in the human genome, annotated by their predicted functions and cell type-specificities. The project will bring together a diverse team of experts in human biology and development, chromatin biology, genomics, and production research. This scientific team will coordinate closely with other Data Production, Coordination, Analysis and Functional Characterization Centers in the Encode Consortium to assemble a common catalog of the locations and cell type-specific functions of regulatory elements in the human genome. These annotations, and all primary data collected in the project, will be made freely available to the scientific community, with the goal to catalyze biomedical research and advance genomic medicine.\",\n",
       "  'pi': {'title': 'Bradley Bernstein'},\n",
       "  'rfa': 'ENCODE4',\n",
       "  'title': 'A CATALOG OF CELL TYPES AND GENOMIC ELEMENTS IN TISSUES, ORGANOIDS AND DISEASE'},\n",
       " {'@id': '/awards/R01HG004456/',\n",
       "  '@type': ['Award', 'Item'],\n",
       "  'description': 'Systematic efforts led by the ENCODE project are underway to characterize all functional DNA elements in the human genome. A growing amount of data generated by ourselves and others has shown that a large portion of the putative regulatory elements are localized far away from gene coding regions. This observation cannot be explained by a simple linear relationship of locations along the genome, and we are unable to address non-linear interactions between functional DNA elements using current technologies. Our goal is to develop an unbiased, whole genome approach for the identification of chromatin interactions involved in transcriptional regulation and other structural and functional roles in the genome. The principal concept of our approach is to use a specially designed DNA oligonucleotide sequence to link different DNA fragments that are non-linearly related in the genome but brought together in close spatial proximity by protein factors in vivo, and extract paired end ditag sequences from the ligated DNA fragments based on the features of the DNA linker. This is followed by mapping the tags to the reference genome sequence, hence revealing the relationship between the paired DNA fragments. The specific aims of this proposal are: 1. To develop an unbiased, whole genome approach for the characterization of long-range chromatin interactions involved in transcription regulation. We developed a prototype protocol for CIA-PET analysis that can extract ditags from the linker-ligated DNA fragments of non-linearly related DNA interactions in S. pombe cells. We will further optimize this methodology and streamline the entire process of library construction, sequencing, and data analysis. In addition, we will rigorously validate the CIA-PET data using a variety of available low-throughput technologies. 2. To adapt CIA-PET technology to mammalian genomes for the identification of long range chromatin interactions involved in transcription regulation. We plan to further improve the specificity of CIA-PET and increase its capacity to suit the need for whole genome analysis in mammalian genomes. We will validate and demonstrate the utility of CIA-PET method in 3 biological systems: a) Chromatin interactions between hemoglobin genes and regulatory elements in mouse erythroid cells. b) Tertiary networks of transcription regulation mediated by Nanog and Oct4 in mouse embryonic stem cells. c) Estrogen receptor mediated chromatin interactions in human breast cancer cells. This project will provide unprecedented insight into the mechanisms of transcription regulations allowing us to better understand how cancer cells develop and how stem cells retain pluripotency.',\n",
       "  'pi': {'title': 'Yijun Ruan'},\n",
       "  'rfa': 'ENCODE2',\n",
       "  'title': 'WHOLE GENOME CHROMATIN INTERACTION ANALYSIS USING PAIR-END-DITAGGING (CIA-PET)'},\n",
       " {'@id': '/awards/U01HG009379/',\n",
       "  '@type': ['Award', 'Item'],\n",
       "  'description': 'Genetic discoveries from genome-wide association studies have led to important insights on human disease mechanisms. In particular, disease-associated variants are enriched in regions of the genome that are active in gene regulation. However, most of these analyses have focused on individual variants with the strongest evidence of association, and on broadly defined functional annotations, which provide limited scope for understanding disease mechanisms. In this proposal we analyze a broader set of genome-wide variants, in conjunction with functionally specialized annotations with potential mechanistic interpretations, such as context-specific regulatory elements or binding sites for specific transcription factors. We utilize methods that ascribe heritability to specific segments of the genome, leveraging polygenic signals distributed across the entire genome instead of a limited number of known genetic associations. These methods can pinpoint disease heritability to smaller and more specific subsets of the genome defined by precise context-specific functional annotations. In addition to highlighting specific mechanisms of disease, localizing to precise annotations will offer the ability to identify causal variants. We will take advantage of large databases of genetic data, in addition to a vast array of functional genomics data from ENCODE and other consortia. Specifically, we will (1) develop new statistical methods to partition disease heritability across functional categories, (2) build new annotations enriched for disease heritability from existing functional data sets, and (3) develop new computational methods to integrate ATAC-seq data with ENCODE data. The proposal represents a collaboration between Drs. Alkes Price, Soumya Raychaudhuri, and Nick Patterson, bringing together expertise in functional genomics, human disease genetics, and polygenic modeling. The investigators have a strong track record of integrating functional genomic data with human genetic data in recent publications.',\n",
       "  'pi': {'title': 'Alkes Price'},\n",
       "  'rfa': 'ENCODE4',\n",
       "  'title': 'FUNCTIONALLY SPECIALIZED COMPONENTS OF DISEASE HERITABILITY IN ENCODE DATA'},\n",
       " {'@id': '/awards/Unattributed/',\n",
       "  '@type': ['Award', 'Item'],\n",
       "  'rfa': 'ENCODE',\n",
       "  'title': 'Unattributed'},\n",
       " {'@id': '/awards/U01HG009431/',\n",
       "  '@type': ['Award', 'Item'],\n",
       "  'description': 'While accurate annotations of protein-coding regions in the human genome have been available for many years, annotation and interpretation of regulatory sequences has lagged far behind. This is because—in contrast to protein-coding sequences—the “rules” that govern links from genome sequence to regulatory function are fuzzy, complex, and highly context-specific. Our limited understanding of regulatory regions presents a fundamental challenge for the identification and interpretation of disease variation, especially in the context of personal genome interpretation. Work from ENCODE and other groups has started to close this gap through experimental work, including high-resolution maps of regulatory sites in a variety of cell types, and modeling of the cell-type specific mappings from genome sequence to regulatory function. In this project we will develop a suite of new tools that uses these diverse new data sets to tackle these problems. We will implement and apply powerful new machine learning methods (based on deep learning) to interpret the genomic, context-specific encoding of regulatory information, and to identify genetic variants that impact the encoded information. We will build models using data from a variety of sources including ENCODE, Roadmap Epigenomics, GTEx, regulatory variation in the HapMap cell lines, as well as from disease cohorts. Validation experiments will be performed using a new high-complexity CRISPR/Cas9 system developed by our team. We will develop software tools and analytical results that can be widely used for genome interpretation, especially in analysis of personal genomes. By the end of this study we expect to have: (1) developed powerful new computational models for predicting regulatory function in a wide variety of cell types, at unprecedented resolution; (2) implemented novel validation screens in native chromatin at extremely high throughput; and (3) developed new tools for interpreting common and rare regulatory variation, with particular focus on identification of high-impact regulatory mutations in personal genomes. We are committed to timely release of software, data and analysis and are committed to working with the ENCODE Consortium to increase the impact of data and analyses from all study sites.',\n",
       "  'pi': {'title': 'Jonathan Pritchard'},\n",
       "  'rfa': 'ENCODE4',\n",
       "  'title': 'DECODING THE REGULATORY ARCHITECTURE OF THE HUMAN GENOME ACROSS CELL TYPES, INDIVIDUALS AND DISEASE'},\n",
       " {'@id': '/awards/NSERC06150/',\n",
       "  '@type': ['Award', 'Item'],\n",
       "  'pi': {'title': 'Max Libbrecht'},\n",
       "  'rfa': 'community',\n",
       "  'title': 'Unsupervised machine learning methods that discover the molecular programs underlying cellular biology'},\n",
       " {'@id': '/awards/U54HG007010/',\n",
       "  '@type': ['Award', 'Item'],\n",
       "  'description': 'The overall aim of this proposal is to establish a comprehensive, high-quality, high-resolution catalogues of human and mouse DNasel hypersensitive sites (DHSs) spanning all major tissue lineages. Building on the prior success of the UW ENCODE center, we plan to localize DNasel hypersensitive sites, to define the locations of DNasel footprints therein, and to continue to provide relevant synergistic annotations including RNA-seq, histone modifications, and CTCF, as well as DNA methylation. The overriding focus of our production effort has been on data quality. Accordingly, samples will be rigorously screened in a pipeline fashion, with only a select set advancing to whole-genome data collection. To ensure the broadest possible coverage of both unique and non-unique genomic territories, we will employ a higher resolution, higher coverage sequencing strategy than the prior project period, significantly enhancing the information content of the data. This proposal integrates the UW-FHCRC Mouse ENCODE Center, which will be closely aligned with the human project to generate a comparative catalogue of regulatory DNA in carefully matched cells and tissues, providing an unparalleled resource. Since DNasel hypersensitive sites are generic markers of a broad spectrum of human cis-regulatory sequences, the utility of the catalogue will be greatly enhanced by the classification of DHSs into major functional categories including promoters, distal elements (enhancers, LCRs), and insulators. We plan to systematically connect distal DHSs with their cognate promoters and to perform in vivo validation of these connections using nuclease-mediated knockouts of distal DHSs in somatic cells.',\n",
       "  'pi': {'title': 'John Stamatoyannopoulos'},\n",
       "  'rfa': 'ENCODE3',\n",
       "  'title': 'A COMPREHENSIVE CATALOG OF DNASEI HYPERSENSITIVE SITES'},\n",
       " {'@id': '/awards/UM1HG009393/',\n",
       "  '@type': ['Award', 'Item'],\n",
       "  'description': 'Specific enhancers interact with promoters to specify the cellular pattern, timing, and levels of gene expression. Enhancers can reside up to megabases away from their target gene promoters and strongly activate transcription. Aim 1 will characterize active enhancer elements and their relationship to promoter elements in vivo in human K562 (a tier 1 ENCODE cell line) by testing a broad array of Transcription Regulatory Elements (TREs) for their enhancer activity using eSTARR-seq, our modified element-clone- compatible STARR-seq assay. This collection of TREs will be selected based on a variety of criteria established by ENCODE and others. Large numbers of selected TREs can be handled using our new Clone- seq method, and then tested for enhancer activity by eSTARR-seq. For the TREs that have significant enhancer activity, ~10,000 synthetic mutations will be generated that are designed to destroy distinct TF binding motifs found within each enhancer. We will generate mutant clones using our en masse Clone-seq2 method and examine their impact on enhancer activity using eSTARR-seq. These data will be used to understand the underlying molecular architecture and function of enhancers and promoters. Aim 2 generates K562 cell lines using CRISPR/Cas9 that contain critical synthetic enhancer mutations identified in Aim 1. PRO- seq assays can then be used to measure with high sensitivity and resolution the transcription at the variant enhancers as well as all TREs and transcription units genome-wide. This will reveal the role of DNA sequence motifs within native enhancer loci in the regulatory crosstalk with distal gene promoters and enhancers. Circularized Chromosome Conformation Capture (4C) experiments with particular enhancers as the anchor site will provide an unbiased analysis of distal interactions, while targeted ChIP-qPCR experiments will test effects of these mutant enhancers on transcription factor binding and local histone marks at these genomic points of enhancer interaction. Thus, Aim 2 rigorously characterizes mutated enhancers from Aim 1 in their native chromatin environment. Aim 3 characterizes the de novo activation of enhancers, which are known to be triggered by the heat shock activation of HSF1, a master regulator. Because the sequence motif, HSE, to which HSF1 binds is well defined, targeted HSE mutations that cripple the enhancer activity will be made immediately using CRISPR at native loci and the effects on transcription genome-wide can be analyzed directly by PRO-seq. Additional critical motifs in these inducible enhancers will be identified in a less biased way by the more laborious, but high-throughput, eSTARR-seq approach described in Aim 1. Finally, tracking the kinetics with which the structural characteristics of these enhancers form in the minutes following heat shock relative to the induced transcriptional activity as measured by PRO-seq allows assessment of which characteristics (DNase I hypersensitivity, histone modifications, binding of HSF1 and other TFs, and eRNA production) correlate with functional transcription effects on distal promoters and other enhancers.',\n",
       "  'pi': {'title': 'John Lis'},\n",
       "  'rfa': 'ENCODE4',\n",
       "  'title': 'HIGH-THROUGHPUT FUNCTIONAL CHARACTERIZATION OF HUMAN ENHANCERS'},\n",
       " {'@id': '/awards/UM1HG009402/',\n",
       "  '@type': ['Award', 'Item'],\n",
       "  'description': 'The overarching goal of the proposed study is to functionally characterize a large number of candidate functional elements in the mammalian genome. The ENCODE projects have revealed millions of putative regulatory elements across more than one hundred cell types and tissues. While these maps have significantly expanded our knowledge of non-coding sequences, there are still large gaps between having descriptive maps of functional elements and understanding the biology of these elements underlying gene regulation. These include: (a) few candidate functional elements predicted by the ENCODE experiments are functionally validated; (b) Epigenomic studies have not given/revealed information on the target genes of candidate functional elements. Therefore, it is still a challenge to interpret the biological functions of non-coding DNA sequences. To address these issues, the objective of this UM1 application is to perform large scale functional characterization of candidate functional elements in their native chromatin context. We will first identify candidate regulatory elements utilizing ENCODE data and generate reporter tagged genes of interest in cell lines utilizing a high throughput, automated platform. Second, we will interrogate candidate functional elements in their native chromatin contexts utilizing two complementary high throughput CRIPSR/Cas9 mediated genome editing approaches. We anticipate these analyses will significantly advance our knowledge of the biological functions of candidate regulatory regions and gene regulation in mammalian cells.',\n",
       "  'pi': {'title': 'Yin Shen'},\n",
       "  'rfa': 'ENCODE4',\n",
       "  'title': 'HIGH THROUGHPUT CRISPR-MEDIATED FUNCTIONAL VALIDATION OF REGULATORY ELEMENTS'},\n",
       " {'@id': '/awards/U01HG009417/',\n",
       "  '@type': ['Award', 'Item'],\n",
       "  'description': 'The goal of this project is to functionally annotate genetic variants in post-transcriptional regulation of RNA expression, which extends and complements the current focus of ENCODE data analysis. Recently, tremendous success has been achieved in constructing a catalog of genetic variants in disease genomes or across population. The next great challenge is to identify causal variants and elucidate their potential function in biological and disease processes. To this end, research efforts have been directed to studying variants located in protein-coding, promoter, and splice site regions due to their apparent impacts on gene expression. However, many of the newly identified disease-associated variants reside in other non-coding regions, such as introns, that may confer regulatory function to the related gene. The mechanisms of these variants have been hard to decipher. It is expected that many of them may function at the post-transcriptional level, thus affecting mRNA expression. In human, a myriad of processes mediate RNA expression at the post-transcriptional stage, such as splicing, editing, polyadenylation and mRNA decay. Post-transcriptional regulation is extremely versatile, yet closely regulated, affecting most human genes. Despite the importance, how to accurately identify functional genetic variants in these processes remains a key question in the field. To address this question, the large collection of ENCODE expression and protein-binding data represent an invaluable resource. We will develop novel methodologies to make full use of the ENCODE and other publicly available data sets, complemented by further bioinformatic prediction and experimental validations. This work will allow a previously unattained level of understanding of genetic variants in post-transcriptional regulation of RNA expression and provide new means to tackle the imperative task of functional annotations of genetic variants.',\n",
       "  'pi': {'title': 'Xinshu Grace Xiao'},\n",
       "  'rfa': 'ENCODE4',\n",
       "  'title': 'ANALYSIS OF FUNCTIONAL GENETIC VARIANTS IN RNA PROCESSING AND EXPRESSION'},\n",
       " {'@id': '/awards/U54HG004558/',\n",
       "  '@type': ['Award', 'Item'],\n",
       "  'description': 'Mapping regulatory information throughout the human genome is essential for both determining the function of the human genome and for understanding human development and disease. We propose to establish a high throughput production facility to identify the DNA binding sites for transcription factors and chromatin modifying proteins in human cells. Transcription factor targets, chromatin modifications and modifying enzymes will be mapped across the genome using chromatin immunoprecipitation experiments. This binding information will be validated and analyzed to ensure that it is of high quality and then compared to other genomic annotations. Our three aims are: 1) To establish a production facility for mapping targets of transcription factors. The pipeline will consist of five components: a) cell preparation, b) antibody validation and chromatin immunoprecipitation, c) DNA target analysis, d) target validation and e) sample tracking and databases. 2) To use the pipeline to map targets of 600 transcription factors, chromatin modifications and chromatin modifying enzymes in at least two major cell lines (HeLa S3 and HepG2), and targets of other factors in additional cell lines. 3) To maintain our results in a database and also make them accessible through public databases. We will interrelate our genomic annotations with those determined by other groups (particularly those from the ENCODE consortium), focusing on correlating patterns of transcription-factor binding and chromatin modifications with gene expression. We expect this project to contribute significant information to the identification of regulatory and functional elements in the human genome.',\n",
       "  'pi': {'title': 'Michael Snyder'},\n",
       "  'rfa': 'ENCODE2',\n",
       "  'title': 'PRODUCTION CENTER FOR GLOBAL MAPPING OF REGULATORY ELEMENTS'},\n",
       " {'@id': '/awards/U01DA025956/',\n",
       "  '@type': ['Award', 'Item'],\n",
       "  'description': 'High-density microarrays and next-generation sequencing technologies, coupled with the availability of the annotated human genomic sequence, are opening a road toward a comprehensive mapping of molecular epigenetic patterns. It is anticipated that comprehensive mapping and study of epigenetic patterns both \"horizontally\" along the genomic sequence and \"vertically\" across multiple differentiation and developmental stages and physiological conditions, will provide insights into human development, physiology, and disease. This vision of epigenomics calls both for novel organizational models suitable for high-throughput data-driven science and for innovative networked cyberinfrastructure. This project aims to develop such networked cyberinfrastructure and employ it to integrate and coordinate data analyses and data pipelines involving designated Reference Epigenome Mapping Centers (REMCs), NCBI, and other participants. The infrastructure builds on the now well established Genboree system which was developed in the context of numerous genome projects and has most recently been employed to coordinate the pilot stage of The Cancer Genome Atlas Project. The infrastructure will provide both scalability for further integration of new epigenomic technologies with increasing data production throughputs and adaptability to accommodate an increasing diversity of experimental and computational methodologies. Using the software-as-a-service model, web services, and semantic web technologies, the infrastructure will help integrate and coordinate efforts of REMCs, NCBI, and an increasing number of collaborating institutions and multi-disciplinary groups in the field of epigenomics working across geographic locations. PUBLIC HEALTH RELEVANCE: Epigenomics is the study of heritable or stable changes in human cells that are not coded in the genomic DNA. The role of epigenomic changes in diseases as diverse as obesity, autism, and cancer is coming to light. Importantly, because epigenomic phenomena are affected by nutrition and environment, including maternal nutrition during pregnancy, increased understanding of epigenomics may lead to better health through changes in human nutrition and behavior. To better understand epigenomic phenomena in human health and disease, the NIH Roadmap Initiative in Epigenomics proposes comprehensive mapping and study of epigenomic patterns in human tissues at different developmental stages and physiological conditions. High-density microarrays and next-generation sequencing technologies, coupled with the availability of the annotated human genomic sequence, are opening a road toward a comprehensive mapping of such patterns. The amount and diversity of data produced will be very large and will require an informatic infrastructure for proper analysis. Building on the established Genboree system for collaborative genomic research over the Internet, this project aims to develop such a networked infrastructure, and employ it to integrate and to coordinate data analyses and data pipelines involving designated Reference Epigenome Mapping Centers and other participants in the NIH Roadmap Initiative in Epigenomics.',\n",
       "  'pi': {'title': 'Aleksandar Milosavljevic'},\n",
       "  'rfa': 'Roadmap',\n",
       "  'title': 'EPIGENOMICS DATA ANALYSIS AND COORDINATION CENTER AT BAYLOR COLLEGE OF MEDICINE'},\n",
       " {'@id': '/awards/GM046883/',\n",
       "  '@type': ['Award', 'Item'],\n",
       "  'description': 'Epigenetic modifications modulate gene expression in normal development and in diseases, such as cancer. X chromosome regulation is an example of coordinate epigenetic regulation of gene expression at the level of an entire chromosome. Our goal is to investigate the epigenetic regulation of X-linked genes in mammals. Genes on the X chromosome are dosage compensated by two processes: upregulation of the active X chromosome in both sexes, and X inactivation in females. A subset of genes escapes X inactivation and thus has higher expression in females. The importance of these genes in normal development is illustrated by the phenotypic anomalies including embryonic lethality in Turner syndrome, which is associated with a single X chromosome. We will investigate the molecular mechanisms that allow genes that escape X inactivation to be expressed within the context of silenced chromatin.',\n",
       "  'pi': {'title': 'Christine Disteche'},\n",
       "  'rfa': 'community',\n",
       "  'title': 'MOUSE X INACTIVATION'},\n",
       " {'@id': '/awards/R01HG009518/',\n",
       "  '@type': ['Award', 'Item'],\n",
       "  'description': \"Project Summary A comprehensive understanding of how genes' activities are controlled temporally and spatially is crucial for studying human development and diseases. Transcription factors (TFs) are an important class of regulatory proteins that can control genes' transcriptional activities by binding to target genes' regulatory DNA sequences called cis-regulatory elements (CREs). A map of genome-wide activities of CREs, or “regulome”, in all cell types and biological conditions will provide a foundation for investigating the basic operating rules of biology, interpreting how genetic variants cause diseases, and guiding the development of disease treatment strategies. Unfortunately, existing experimental regulome mapping technologies cannot analyze a large number of samples efﬁciently. Thus far, they have only been applied to map regulomes in a small fraction of all biological contexts. As a result, today a comprehensive map of human regulatory landscape is still lacking. This study aims to develop a solution to mapping regulomes in a massive number of biological samples from diverse cell types and conditions by leveraging publicly available functional genomic data. We will use the rich gene expression and regulome data generated by the Encyclopedia of DNA Elements (ENCODE) project to develop a new prediction approach that predicts a biological sample's regulome using its transcriptome (Aim 1). We will then apply the trained prediction models to 290,000+ publicly available human gene expression samples in the Gene Expression Omnibus (GEO) database to create a regulome map that covers hundreds of thousands more biological contexts than existing regulome data (Aim 2). We will also develop a method to help researchers explore the massive datasets to gain biological insights into gene regulation by projecting the data to their low- dimensional structure reﬂecting their developmental trajectory (Aim 3). Our research will create new analytical methods for predicting ultra-high-dimensional outcomes using ultra- high-dimensional predictors, making cross-platform predictions when the training and application data are gener- ated by different technological platforms with systematic platform differences, and retrieving the low-dimensional spanning tree structure from a massive dataset. Applying these new methods to the vast amounts of publicly available gene expression data will allow us to address a major challenge in regulome mapping that cannot be solved using existing experimental technologies. By enabling fast and cost-efﬁcient mapping and analysis of human gene regulatory landscape, the proposed research can have a major impact on future studies of human development and diseases.\",\n",
       "  'pi': {'title': 'Hongkai Ji'},\n",
       "  'rfa': 'community',\n",
       "  'title': 'Big Data Methods for Decoding Gene Regulation'},\n",
       " {'@id': '/awards/U01HG004561/',\n",
       "  '@type': ['Award', 'Item'],\n",
       "  'description': 'Transcriptional regulation is a highly coordinated process in the human genome. A significant component of transcriptional regulation is the interaction between transcriptional factor proteins (TFs) and cis-regulatory DNA elements. The goal of this project is to computationally predict and experimentally validate DNA sequence motifs that explain promoter function. The results of this project will be direct functional measurements of sequence motifs at base-pair resolution. This will yield extremely valuable information to assess the sensitivity and specificity of algorithms that can be immediately applied to the whole genome. These results will also help to identify the proportion of functionally relevant transcription factor binding events. The three aims of our project are: Aim 1: We will use two machine learning algorithms (support vector machines and random forest) to determine a subset of known transcription factor binding motifs that are the most predictive of promoter activities. Aim 2: We will then use Bayesian networks to select the most predictive motif features. These features are the strengths of the motif using PSSM and the positions of individual sites relative to each other and the transcription start site. Aim 3: We will then perform mutagenesis of the informative positions within the 900 sites identified in Aim 2, and measure their promoter activities by using transient transfection assays. We also plan to test 100 lower ranking sites to determine the sensitivity and specificity of our algorithms. We will also develop an oligo competition assay as a new approach to increase the throughput of experimental motif analysis for the rest of the genome. The data generated in this project will be the first systematic functional analysis of TF binding sites at base-pair resolution.',\n",
       "  'pi': {'title': 'Zhiping Weng'},\n",
       "  'rfa': 'ENCODE2',\n",
       "  'title': 'IDENTIFICATION OF TRANSCRIPTIONAL FACTOR BINDING SITES IN HUMAN PROMOTERS'},\n",
       " {'@id': '/awards/R21HG011280-01/',\n",
       "  '@type': ['Award', 'Item'],\n",
       "  'rfa': 'community',\n",
       "  'title': 'NIH Exploratory/Developmental Research Grant Award, Conesa Lab'},\n",
       " {'@id': '/awards/U54HG006994/',\n",
       "  '@type': ['Award', 'Item'],\n",
       "  'description': 'Our primary goal is to comprehensively identify the functional elements of the Drosophila transcriptome, including the poly(A)- transcripts, all translated regions, and all RNA elements bound by proteins. In addition, we propose to elucidate the RNA sequences and binding proteins that regulate splicing, translation and stability of RNA. We plan to survey representative time points throughout development, a wide-variety of tissue types and well-characterized cell lines. We will produce a catalog of poly(A)- transcripts with single-base resolution and validate a subset of transcription start sites and termination sites using RLM-RACE. We will discover novel translated elements of mRNAs and long non-coding RNAs using ribosome profiling and validate a subset using a protein expression assay. We will comprehensively identify the RNAs bound by the complete set of RNA-binding proteins (RBPs) in Drosophila using affinity purification followed by high throughput sequencing (RIP-seq), prioritizing human homologs. RBPs recognize and bind to specific RNA sequences, and these interactions can regulate the stability, splicing, nuclear export, subcellular localizatin, and translatability of mRNAs. Concurrent with these studies, bioinformatic analyses will identify new poly(A)- transcripts, model their secondary structures, discover novel translated elements of mRNAs such as uORFs and identify long non-coding RNAs. For each RNA-binding protein (RBPs), we will identify bound transcripts using statistical measures of reproducibility, biologica replicates and relative enrichment. We also plan to identify binding-site motifs (PWMs) and develop the network of RNA-protein interactions. We will integrate the RNA-protein interaction map with the published Drosophila Protein Interaction Map. The scope of these studies is unprecedented and will provide the most comprehensive set of experimental evidence for post-transcriptional gene regulation in any organism. As a public resource, these studies are a prerequisite for understanding normal metabolism, growth and differentiation that will aid in understanding these processes in other organisms and in human health and disease.',\n",
       "  'pi': {'title': 'Susan Celniker'},\n",
       "  'rfa': 'modENCODE',\n",
       "  'title': 'COMPREHENSIVE DISCOVERY OF FUNCTIONAL ELEMENTS OF THE DROSPHILA TRANSCRIPTOME'},\n",
       " {'@id': '/awards/U54HG007005/',\n",
       "  '@type': ['Award', 'Item'],\n",
       "  'description': 'The goal of this proposal is to comprehensively characterize the functional sequence elements encoded in the human genome that are recognized by 250 RNA binding proteins (RBPs) in two cell lines. To do this, we will generate stable HeLa-S3 and GM 12878 cell lines expressing epitope-tagged RBPs and determine the sub cellular localization pattern of each RBP. These cells will be used to perform CLIP-Seq assays to define genome-wide, and at single-nucleotide resolution, the RNA sequence elements recognized by 250 RBPs. The RNA sequence elements identified will be validated using sequence-based in vitro binding assays. Furthermore, ChlP-Seq will be performed for all nuclear localized RBPs to determine the regions of the genome and chromatin that each RBP associates with. These binding assays will be supplemented with functional assays in RBP-depleted cells that will be critical for assigning functions to the identified binding sites. These assays include RNA-Seq of total cellular RNA and RNA purified from various cellular fractions, ribosomal footprint profiling, and Gro-Seq. Together, these assays will provide functional information regarding the roles of each RBP in splicing, cleavage and polyadenylation, RNA stability, RNA editing, translation, RNA localization, and transcription. Bioinformatic analysis will be performed, largely using software generated by our group, to quantitate all assays and to associate functions to the sequence elements identified in the binding assays. Together, these experiments will provide a comprehensive and in depth measure of the functions of approximately half of the human RBPs and the functional sequence elements that they interact with. This project will fill a major gap in the catalog of functional elements encoded in the human genome that are being characterized by the ENCODE consortium. The product of this project will be a unique and valuable community resource that will push the field forward in new and exciting ways and will almost certainly create new paradigms regarding the functions of RBPs and RNA-protein networks in human biology and disease.',\n",
       "  'pi': {'title': 'Brenton Graveley'},\n",
       "  'rfa': 'ENCODE3',\n",
       "  'title': 'COMPREHENSIVE ANALYSIS OF FUNCTIONAL RNA ELEMENTS ENCODED IN THE HUMAN GENOME'},\n",
       " {'@id': '/awards/U01HG004695/',\n",
       "  '@type': ['Award', 'Item'],\n",
       "  'description': \"The ENCODE Data Analysis Center (EDAC) proposal aims to provide a flexible analysis resource for the ENCODE project. The ENCODE project is a large multi center project which aims to define all the functional elements in the human genome. This will be achieved using many different experimental techniques coupled with numerous computational techniques. A critical part in delivering this set of functional elements is the integration of data from multiple sources. The ED AC proposal aims to provide this integration. As proscribed by the RFA for this proposal, the precise prioritization for the EDAC's work will be set by an external group, the Analysis Working Group (AWG). Based on previous experience, these analysis methods will require a variety of techniques. We expect to have to apply sophisticated statistical models to the integration of the data, in particular mitigating the problems of the extensive heterogeneity and correlation of variables on the human genome. We have statistical experts who can use the large size of the human genome, coupled with a limited number of sensible assumptions to produce statistical techniques which are robust to this considerable heterogeneity. We also expect to apply machine learning techniques to build integration methods combining datasets. These included Bayesian based inference methods and the robust computer science technique of Support Vector Machines. Each of these methods have performed well in the ENCODE pilot project and we expect them to be even more useful in the full ENCODE project. We will also provide quality assurance and summary metrics of genome-wide multiple alignments. This area has a number of complex statistical, algorithmic and engineering issues, which we will solve using state of the art techniques. Overall we aim to provide deep integration of the ENCODE data, under the direction of the AWG and in tight collaboration with the other members of the ENCODE consortium.\",\n",
       "  'pi': {'title': 'Ewan Birney'},\n",
       "  'rfa': 'ENCODE2',\n",
       "  'title': 'EDAC: ENCODE DATA ANALYSIS CENTER'},\n",
       " {'@id': '/awards/1U54DK107967/',\n",
       "  '@type': ['Award', 'Item'],\n",
       "  'description': 'PROJECT SUMMARY / ABSTRACT This proposal seeks to fulfill a community need for a comprehensive, high-resolution genome-mapping platform that will enable investigation of the structural, functional and spatiotemporal organization of the human genome. Our ultimate goal is to deliver complex chromatin interaction network maps in the context of 3D genome structures from which the dynamics of individual genomic elements can be monitored and referenced. Here, we propose to develop a Nucleome Positioning System (NPS)-comprised of 1) a robust genome- wide mapping technology platform, 2) advanced computational modeling algorithms and 3) state-of-the-art nuclear imaging methods-that will allow users community-wide to uncover the regulatory functions of 3D genome organization in human cells. NPS will be based upon the established ChIA-PET method (1,2), enhanced by process optimizations-i.e., microfluidic-based miniaturization and Tn5-transposase-based library preparation-to facilitate the study of chromatin interactions mediated by protein factors across a broader range of human cell types (Aim 1, see also Mapping Technology Development Component). We will also optimize RICh-PET for the comprehensive mapping of chromatin interactions mediated by non-coding RNAs (Aim 1). The high-quality mapping data generated through these optimization efforts will be analyzed by a new computational platform (Three-Dimensional Nucleome Modeling Engine, or 3D-NOME) that makes use of hierarchical multi-scaling to model 3D genome structures (Aim 2, Data Analysis and Modeling component). We will also complement the 3D modeling with transcriptome, epigenome and SNP data associated with genetic diseases (GWAS) to provide functional annotation to structural units (Aim 2). We will continue by developing strategies to validate the nucleome geometry predicted by 3D-NOME both structurally, using new nuclear imaging technologies, and functionally, using cutting-edge genome- and epigenome-editing approaches, in both human cell lines and mouse models (Aim 3, Biological Validation Component). Finally, we will implement NPS to generate pilot 3D genome maps from a wide range of human cell lines and primary immune cells sorted from whole blood, to elucidate the spatiotemporal dynamics of human genome organization over major developmental and hematopoietic cell lineages, as well as among differentiating lymphocytes involved in the immune response (Aim 4, Data Generation Component). Together, these efforts will yield a powerful set of sophisticated, high-quality tools and mapping data for the larger research community, and will help establish the standards for future 3D/4D nucleome studies. They will also provide insights into the broad mechanisms that organize the structure and regulate the function of the human genome, as well as the specific mechanisms by which immune responses are regulated at the nuclear level.',\n",
       "  'pi': {'title': 'Yijun Ruan'},\n",
       "  'rfa': 'community',\n",
       "  'title': 'NUCLEOME POSITIONING SYSTEM FOR SPATIOTEMPORAL GENOME ORGANIZATION AND REGULATION'},\n",
       " {'@id': '/awards/U01HG007910/',\n",
       "  '@type': ['Award', 'Item'],\n",
       "  'description': 'The developmental shifts that occur when cells respond to environmental stimuli are controlled in large part by gene expression programs involving thousands of genes. Transcription factors (TFs), chromatin modifying enzymes, and cis-acting DNA elements contribute to the networks that underlie such programs. The code that links these variables in such a way that the expression of a given gene can be predicted based on the presence of specific components has yet to be deciphered. A model for such a code will be constructed here based on genome-wide analysis of human dendritic cells (DCs) as they mature in response to pathogens. DCs are antigen-presenting cells that initiate and determine the quality and magnitude of the host immune response. Recent technical advances in stem cell biology, reverse-genetic tools for primary human cells, and genome-wide assessment of transcripts, local chromatin features and long-range chromatin interactions, will be exploited here to construct a model for the transcriptional regulatory network that underlies pathogen detection and maturation in human DCs. In Aim 1, DCs will be sampled in a time-course following stimulation with LPS. Stimulation-responsive genes will be identified by RNA-Seq. Chromatin features will be mapped using ChIP-Seq, high-resolution global DNA foot printing, and Hi-C. This systematic map of all responsive genes and the regulatory regions associated with them will be combined with known DNA-binding motifs to generate an initial model for the gene regulatory network. In Aim 2 sixty transcription factors that drive transcription within the first 2 hrs of LPS stimulation will be identified from the model in Aim 1. These factors will be knocked-down in hDCs and the effect on the LPS response will be assessed using RNA-Seq. This functional data for each TF will be complemented by measurement of protein-DNA interactions using ChIP- Seq; the later will exploit CRISPR technology to fuse a common epitope tag to endogenous coding sequences for these TFs. By pinpointing key transcription factors, their binding sites, and transcriptionally-responsive genes, this analysis will be used to refine the model for the gene regulatory network. In Aim 3, a subset of cis- acting regulatory regions important for controlling the hDC transcriptional response to LPS will be identified using features collected in the previous aims. Selected loci will be perturbed using CRISPR technology and effects on target gene expression will be examined. The effect on gene expression of allelic variants in relevant loci will be assessed, using published data as well as 300 human samples that will be genotyped using Pac- Bio. In conjunction, the variance in the higher-order chromatin conformation for 50 key regulatory loci across five individuals will be assessed by 5C. These data will be used to further refine our regulatory model. The result of this analysis will be a model that highlights the key transcription factors and cis-acting components that drive gene expression in LPS-stimulated human DCs. Our findings are expected to provide a more general method for identifying the genetic determinants of gene expression in primary mammalian cells.',\n",
       "  'pi': {'title': 'Jeremy Luban'},\n",
       "  'rfa': 'GGR',\n",
       "  'title': 'RULES OF GENE EXPRESSION MODELED ON HUMAN DENDRITIC CELL RESPONSE TO PATHOGENS'}]"
      ]
     },
     "execution_count": 69,
     "metadata": {},
     "output_type": "execute_result"
    }
   ],
   "source": [
    "documents"
   ]
  },
  {
   "cell_type": "code",
   "execution_count": 70,
   "id": "794fedf3",
   "metadata": {},
   "outputs": [],
   "source": [
    "data_coordination_results = embeddings.get_k_results_most_similar_to_query(\n",
    "    query='data coordination center',\n",
    "    k=3\n",
    ")"
   ]
  },
  {
   "cell_type": "code",
   "execution_count": 71,
   "id": "8c3b5723",
   "metadata": {
    "scrolled": false
   },
   "outputs": [
    {
     "name": "stdout",
     "output_type": "stream",
     "text": [
      "\n",
      "ID: /awards/U01HG004695/\n",
      "Title: EDAC: ENCODE DATA ANALYSIS CENTER\n",
      "Lab: Ewan Birney\n",
      "Description: The ENCODE Data Analysis Center (EDAC) proposal aims to provide a flexible analysis resource for the ENCODE project. The ENCODE project is a large multi center project which aims to define all the functional elements in the human genome. This will be achieved using many different experimental techniques coupled with numerous computational techniques. A critical part in delivering this set of functional elements is the integration of data from multiple sources. The ED AC proposal aims to provide this integration. As proscribed by the RFA for this proposal, the precise prioritization for the EDAC's work will be set by an external group, the Analysis Working Group (AWG). Based on previous experience, these analysis methods will require a variety of techniques. We expect to have to apply sophisticated statistical models to the integration of the data, in particular mitigating the problems of the extensive heterogeneity and correlation of variables on the human genome. We have statistical experts who can use the large size of the human genome, coupled with a limited number of sensible assumptions to produce statistical techniques which are robust to this considerable heterogeneity. We also expect to apply machine learning techniques to build integration methods combining datasets. These included Bayesian based inference methods and the robust computer science technique of Support Vector Machines. Each of these methods have performed well in the ENCODE pilot project and we expect t...\n",
      "Similarity score: 0.7850867617273707\n",
      "\n",
      "ID: /awards/U01DA025956/\n",
      "Title: EPIGENOMICS DATA ANALYSIS AND COORDINATION CENTER AT BAYLOR COLLEGE OF MEDICINE\n",
      "Lab: Aleksandar Milosavljevic\n",
      "Description: High-density microarrays and next-generation sequencing technologies, coupled with the availability of the annotated human genomic sequence, are opening a road toward a comprehensive mapping of molecular epigenetic patterns. It is anticipated that comprehensive mapping and study of epigenetic patterns both \"horizontally\" along the genomic sequence and \"vertically\" across multiple differentiation and developmental stages and physiological conditions, will provide insights into human development, physiology, and disease. This vision of epigenomics calls both for novel organizational models suitable for high-throughput data-driven science and for innovative networked cyberinfrastructure. This project aims to develop such networked cyberinfrastructure and employ it to integrate and coordinate data analyses and data pipelines involving designated Reference Epigenome Mapping Centers (REMCs), NCBI, and other participants. The infrastructure builds on the now well established Genboree system which was developed in the context of numerous genome projects and has most recently been employed to coordinate the pilot stage of The Cancer Genome Atlas Project. The infrastructure will provide both scalability for further integration of new epigenomic technologies with increasing data production throughputs and adaptability to accommodate an increasing diversity of experimental and computational methodologies. Using the software-as-a-service model, web services, and semantic web technologies,...\n",
      "Similarity score: 0.7718154623067882\n",
      "\n",
      "ID: /awards/U54HG007010/\n",
      "Title: A COMPREHENSIVE CATALOG OF DNASEI HYPERSENSITIVE SITES\n",
      "Lab: John Stamatoyannopoulos\n",
      "Description: The overall aim of this proposal is to establish a comprehensive, high-quality, high-resolution catalogues of human and mouse DNasel hypersensitive sites (DHSs) spanning all major tissue lineages. Building on the prior success of the UW ENCODE center, we plan to localize DNasel hypersensitive sites, to define the locations of DNasel footprints therein, and to continue to provide relevant synergistic annotations including RNA-seq, histone modifications, and CTCF, as well as DNA methylation. The overriding focus of our production effort has been on data quality. Accordingly, samples will be rigorously screened in a pipeline fashion, with only a select set advancing to whole-genome data collection. To ensure the broadest possible coverage of both unique and non-unique genomic territories, we will employ a higher resolution, higher coverage sequencing strategy than the prior project period, significantly enhancing the information content of the data. This proposal integrates the UW-FHCRC Mouse ENCODE Center, which will be closely aligned with the human project to generate a comparative catalogue of regulatory DNA in carefully matched cells and tissues, providing an unparalleled resource. Since DNasel hypersensitive sites are generic markers of a broad spectrum of human cis-regulatory sequences, the utility of the catalogue will be greatly enhanced by the classification of DHSs into major functional categories including promoters, distal elements (enhancers, LCRs), and insulators....\n",
      "Similarity score: 0.770866928240632\n"
     ]
    }
   ],
   "source": [
    "print_results(data_coordination_results, embeddings)"
   ]
  },
  {
   "cell_type": "code",
   "execution_count": null,
   "id": "c358ccfa",
   "metadata": {},
   "outputs": [],
   "source": []
  }
 ],
 "metadata": {
  "kernelspec": {
   "display_name": "Python 3 (ipykernel)",
   "language": "python",
   "name": "python3"
  },
  "language_info": {
   "codemirror_mode": {
    "name": "ipython",
    "version": 3
   },
   "file_extension": ".py",
   "mimetype": "text/x-python",
   "name": "python",
   "nbconvert_exporter": "python",
   "pygments_lexer": "ipython3",
   "version": "3.10.10"
  }
 },
 "nbformat": 4,
 "nbformat_minor": 5
}
