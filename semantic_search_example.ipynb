{
 "cells": [
  {
   "cell_type": "markdown",
   "id": "0a37fc4d",
   "metadata": {},
   "source": [
    "## Semantic search with OpenAI `text-embedding-ada-002` embeddings."
   ]
  },
  {
   "cell_type": "markdown",
   "id": "8da2300b",
   "metadata": {},
   "source": [
    "Here's an example of using the underlying Python library for calculating embeddings on a custom set of documents, and finding the _k_ most similar documents given a custom query or an existing document."
   ]
  },
  {
   "cell_type": "code",
   "execution_count": 1,
   "id": "29c9533f",
   "metadata": {},
   "outputs": [],
   "source": [
    "import requests\n",
    "\n",
    "import openai as openai_client # Assumes OPENAI_API_KEY is defined in environment\n",
    "\n",
    "from ssed.remote.openai import OpenAI\n",
    "from ssed.remote.openai import OpenAIProps\n",
    "\n",
    "from ssed.embeddings import Embeddings\n",
    "from ssed.embeddings import EmbeddingsProps"
   ]
  },
  {
   "cell_type": "markdown",
   "id": "a224dcbc",
   "metadata": {},
   "source": [
    "Get some Award documents (with select fields):"
   ]
  },
  {
   "cell_type": "code",
   "execution_count": 2,
   "id": "e7e90e1f",
   "metadata": {},
   "outputs": [
    {
     "data": {
      "text/plain": [
       "{'@id': '/awards/1U54DK107967/',\n",
       " '@type': ['Award', 'Item'],\n",
       " 'description': 'PROJECT SUMMARY / ABSTRACT This proposal seeks to fulfill a community need for a comprehensive, high-resolution genome-mapping platform that will enable investigation of the structural, functional and spatiotemporal organization of the human genome. Our ultimate goal is to deliver complex chromatin interaction network maps in the context of 3D genome structures from which the dynamics of individual genomic elements can be monitored and referenced. Here, we propose to develop a Nucleome Positioning System (NPS)-comprised of 1) a robust genome- wide mapping technology platform, 2) advanced computational modeling algorithms and 3) state-of-the-art nuclear imaging methods-that will allow users community-wide to uncover the regulatory functions of 3D genome organization in human cells. NPS will be based upon the established ChIA-PET method (1,2), enhanced by process optimizations-i.e., microfluidic-based miniaturization and Tn5-transposase-based library preparation-to facilitate the study of chromatin interactions mediated by protein factors across a broader range of human cell types (Aim 1, see also Mapping Technology Development Component). We will also optimize RICh-PET for the comprehensive mapping of chromatin interactions mediated by non-coding RNAs (Aim 1). The high-quality mapping data generated through these optimization efforts will be analyzed by a new computational platform (Three-Dimensional Nucleome Modeling Engine, or 3D-NOME) that makes use of hierarchical multi-scaling to model 3D genome structures (Aim 2, Data Analysis and Modeling component). We will also complement the 3D modeling with transcriptome, epigenome and SNP data associated with genetic diseases (GWAS) to provide functional annotation to structural units (Aim 2). We will continue by developing strategies to validate the nucleome geometry predicted by 3D-NOME both structurally, using new nuclear imaging technologies, and functionally, using cutting-edge genome- and epigenome-editing approaches, in both human cell lines and mouse models (Aim 3, Biological Validation Component). Finally, we will implement NPS to generate pilot 3D genome maps from a wide range of human cell lines and primary immune cells sorted from whole blood, to elucidate the spatiotemporal dynamics of human genome organization over major developmental and hematopoietic cell lineages, as well as among differentiating lymphocytes involved in the immune response (Aim 4, Data Generation Component). Together, these efforts will yield a powerful set of sophisticated, high-quality tools and mapping data for the larger research community, and will help establish the standards for future 3D/4D nucleome studies. They will also provide insights into the broad mechanisms that organize the structure and regulate the function of the human genome, as well as the specific mechanisms by which immune responses are regulated at the nuclear level.',\n",
       " 'pi': {'title': 'Yijun Ruan'},\n",
       " 'rfa': 'community',\n",
       " 'title': 'NUCLEOME POSITIONING SYSTEM FOR SPATIOTEMPORAL GENOME ORGANIZATION AND REGULATION'}"
      ]
     },
     "execution_count": 2,
     "metadata": {},
     "output_type": "execute_result"
    }
   ],
   "source": [
    "url = (\n",
    "    'https://www.encodeproject.org'\n",
    "    '/search/?type=Award&frame=object&format=json&status=current&limit=all'\n",
    "    '&field=pi.title&field=description&field=title&field=rfa'\n",
    ")\n",
    "response = requests.get(url)\n",
    "documents = response.json()['@graph']\n",
    "documents[0]"
   ]
  },
  {
   "cell_type": "code",
   "execution_count": 3,
   "id": "f843719b",
   "metadata": {
    "scrolled": false
   },
   "outputs": [
    {
     "data": {
      "text/plain": [
       "['NUCLEOME POSITIONING SYSTEM FOR SPATIOTEMPORAL GENOME ORGANIZATION AND REGULATION',\n",
       " 'CONNECTING TRANSPOSABLE ELEMENTS AND REGULATORY INNOVATION USING ENCODE DATA',\n",
       " 'ANALYSIS OF FUNCTIONAL GENETIC VARIANTS IN RNA PROCESSING AND EXPRESSION',\n",
       " 'A COMPREHENSIVE FUNCTIONAL MAP OF HUMAN PROTEIN-RNA INTERACTIONS',\n",
       " 'HIGH-THROUGHPUT FUNCTIONAL CHARACTERIZATION OF HUMAN ENHANCERS',\n",
       " 'MASSIVELY PARALLEL REPORTER ASSAYS AND GENOME EDITING OF ENCODE PREDICTED REGULATORY ELEMENTS',\n",
       " 'HIGHER PRECISION HUMAN AND MOUSE TRANSCRIPTOMES',\n",
       " 'COMPREHENSIVE MAPPING OF LONG-RANGE CHROMATIN INTERACTIONS IN HUMAN AND MOUSE GENOMES',\n",
       " 'ENCODE MAPPING CENTER-A COMPREHENSIVE CATALOG OF DNASE I HYPERSENSITIVE SITES',\n",
       " 'MAPPING SITES OF TRANSCRIPTION AND REGULATION',\n",
       " 'IMPACT OF GENETIC VARIANTS ON GENE REGULATION AND 3D GENOME ORGANIZATION IN HUMAN DISEASES',\n",
       " 'ENCODING GENOMIC ARCHITECTURE IN THE ENCYCLOPEDIA: LINKING DNA ELEMENTS, CHROMATIN STATE, AND GENE EXPRESSION IN 3D',\n",
       " 'A CATALOG OF CELL TYPES AND GENOMIC ELEMENTS IN TISSUES, ORGANOIDS AND DISEASE',\n",
       " 'PRODUCTION CENTER FOR MAPPING REGULATORY REGIONS OF THE HUMAN GENOME',\n",
       " 'EPIGENOMICS DATA ANALYSIS AND COORDINATION CENTER AT BAYLOR COLLEGE OF MEDICINE',\n",
       " 'THE SAN DIEGO EPIGENOME CENTER',\n",
       " 'UCSF award from Yin Shen',\n",
       " 'MAPPING OF NOVEL CANDIDATE FUNCTIONAL ELEMENTS WITH BRU-SEQ TECHNOLOGY',\n",
       " 'GENOME WIDE MAPPING OF LOOPS USING IN SITU HI-C',\n",
       " 'FUNCTIONALLY SPECIALIZED COMPONENTS OF DISEASE HERITABILITY IN ENCODE DATA',\n",
       " 'REGULOMEDB: A RESOURCE FOR THE HUMAN REGULOME',\n",
       " 'HIGH-THROUGHPUT METHODS FOR ELUCIDATING THE CONTROL OF CHROMATIN ACCESSIBILITY',\n",
       " 'Unsupervised machine learning methods that discover the molecular programs underlying cellular biology',\n",
       " 'A DATA COORDINATING CENTER FOR ENCODE',\n",
       " 'DECODING AND REPROGRAMMING THE CORTICOSTEROID TRANSCRIPTIONAL REGULATORY NETWORK',\n",
       " 'COMPREHENSIVE FUNCTIONAL CHARACTERIZATION AND DISSECTION OF NONCODING REGULATORY ELEMENTS AND HUMAN GENETIC VARIATION',\n",
       " 'GENE REGULATION DURING EARLY DEVELOPMENT C.ELEGANS',\n",
       " 'COMPREHENSIVE IDENTIFICATION OF ENCODE RNA BASED CIS-REGULATORY ELEMENTS',\n",
       " 'MOUSE X INACTIVATION',\n",
       " 'PRODUCTION SEQUENCING OF REFERENCE HUMAN EPIGENOMES',\n",
       " 'CENTER FOR PERSONAL DYNAMIC REGULOMES - PROJECT 4',\n",
       " 'IDENTIFICATION OF FUNCTIONAL DNA ELEMENTS BY HSQPCR',\n",
       " 'REGULATORY MECHANISMS OF CD4+ T CELL DIFFERENTIATION',\n",
       " 'CREATING COMPREHENSIVE MAPS OF WORM AND FLY TRANSCRIPTION FACTOR BINDING SITES',\n",
       " 'AN ENCODE CHIP-SEQ PIPELINE USING ENDOGENOUSLY TAGGED HUMAN DNA-ASSOCIATED PROTEINS',\n",
       " 'EDAC: ENCODE DATA ANALYSIS CENTER',\n",
       " 'GENOMICS OF GENE REGULATION IN PROGENITOR TO DIFFERENTIATED KERATINOCYTES',\n",
       " 'IN VIVO CHARACTERIZATION OF MAJOR ENCODE-PREDICTED CLASSES OF NONCODING ELEMENTS',\n",
       " 'X CHROMOSOME REGULATION AND ROLE IN ANEUPLOIDY',\n",
       " 'HIGH-THROUGHPUT SYSTEMATIC CHARACTERIZATION OF REGULATORY ELEMENT FUNCTION',\n",
       " 'RIBONOMICS OF GENE REGULATION TO PREDICT INNATE IMMUNE RESPONSES',\n",
       " '3UM1HG009409-04S1',\n",
       " 'DECODING THE REGULATORY ARCHITECTURE OF THE HUMAN GENOME ACROSS CELL TYPES, INDIVIDUALS AND DISEASE',\n",
       " 'DECODING IN VIVO REGULATORY PROGRAMS OF CD4+ T LYMPHOCYTE POPULATIONS IN INFLAMMA',\n",
       " 'CENTER FOR 3D STRUCTURE AND PHYSICS OF THE GENOME',\n",
       " 'NIH Exploratory/Developmental Research Grant Award, Conesa Lab',\n",
       " 'ROADMAP',\n",
       " 'CENTER FOR FUNCTIONAL VALIDATION AND EVALUATION OF ENCODE ENHANCER REGIONS',\n",
       " 'ENCODE2 Affiliates',\n",
       " 'SYSTEMATIC IDENTIFICATION OF CORE REGULATORY CIRCUITRY FROM ENCODE DATA',\n",
       " 'HIGH THROUGHPUT CRISPR-MEDIATED FUNCTIONAL VALIDATION OF REGULATORY ELEMENTS',\n",
       " 'ENCODE',\n",
       " 'Uncovering and understanding RNA through Massively Parallel Sequencing',\n",
       " 'GENCODE: COMPREHENSIVE GENOME ANNOTATION FOR HUMAN AND MOUSE',\n",
       " 'Big Data Methods for Decoding Gene Regulation',\n",
       " 'Pew Biomedical Scholars, Award Year 2018',\n",
       " 'Principals of Chromatin Organization',\n",
       " 'RULES OF GENE EXPRESSION MODELED ON HUMAN DENDRITIC CELL RESPONSE TO PATHOGENS',\n",
       " 'INTEGRATED EPIGENETIC MAPS OF HUMAN EMBRYONIC AND ADULT CELLS',\n",
       " 'Improving Transcriptome Annotation',\n",
       " 'WHOLE GENOME CHROMATIN INTERACTION ANALYSIS USING PAIR-END-DITAGGING (CIA-PET)',\n",
       " 'NORTHWEST REFERENCE EPIGENOME MAPPING CENTER',\n",
       " 'ALTERNATIVE PROMOTER USAGE IN TISSUE-SPECIFIC GENE EXPR',\n",
       " 'Unattributed']"
      ]
     },
     "execution_count": 3,
     "metadata": {},
     "output_type": "execute_result"
    }
   ],
   "source": [
    "[doc['title'] for doc in documents]"
   ]
  },
  {
   "cell_type": "code",
   "execution_count": 4,
   "id": "17388815",
   "metadata": {},
   "outputs": [
    {
     "name": "stdout",
     "output_type": "stream",
     "text": [
      "64\n"
     ]
    }
   ],
   "source": [
    "print(len(documents))"
   ]
  },
  {
   "cell_type": "markdown",
   "id": "5fdf4da6",
   "metadata": {},
   "source": [
    "Create an `Embeddings` object from the documents:"
   ]
  },
  {
   "cell_type": "code",
   "execution_count": 5,
   "id": "ddb03fc9",
   "metadata": {},
   "outputs": [],
   "source": [
    "openai = OpenAI(\n",
    "    props=OpenAIProps(\n",
    "        embedding_client=openai_client.Embedding\n",
    "    )\n",
    ")\n",
    "\n",
    "embeddings = Embeddings.from_documents(\n",
    "    props=EmbeddingsProps(\n",
    "        openai=openai\n",
    "    ),\n",
    "    documents=documents,\n",
    "    id_key='@id'\n",
    ")"
   ]
  },
  {
   "cell_type": "markdown",
   "id": "df540e87",
   "metadata": {},
   "source": [
    "Calculate the embeddings (this is rate limited by OpenAI's API and could take a long time if you have a lot of documents):"
   ]
  },
  {
   "cell_type": "code",
   "execution_count": 6,
   "id": "40355ab3",
   "metadata": {
    "scrolled": false
   },
   "outputs": [
    {
     "data": {
      "text/plain": [
       "array([[-0.02199213,  0.01176144, -0.0105888 , ..., -0.02159891,\n",
       "        -0.01867786, -0.0273427 ],\n",
       "       [-0.02476267, -0.02050317, -0.00664264, ..., -0.0171476 ,\n",
       "         0.00587566, -0.01776393],\n",
       "       [-0.02926512,  0.0011315 ,  0.00279028, ..., -0.02431384,\n",
       "        -0.01311122, -0.01385114],\n",
       "       ...,\n",
       "       [-0.01652613,  0.01145403, -0.02446871, ..., -0.01226222,\n",
       "        -0.01578761, -0.02778508],\n",
       "       [-0.02645543, -0.00966235, -0.01547101, ..., -0.02620227,\n",
       "        -0.00030612, -0.0090857 ],\n",
       "       [ 0.00107457, -0.00064013, -0.0274494 , ..., -0.02273974,\n",
       "         0.00525227, -0.0354076 ]])"
      ]
     },
     "execution_count": 6,
     "metadata": {},
     "output_type": "execute_result"
    }
   ],
   "source": [
    "embeddings.get_values()"
   ]
  },
  {
   "cell_type": "code",
   "execution_count": 7,
   "id": "9e41eac0",
   "metadata": {},
   "outputs": [],
   "source": [
    "def print_results(indices_and_scores, embeddings, description_max=1500):\n",
    "    for index, score in indices_and_scores:\n",
    "        print('\\nID:', embeddings.documents[index]['@id'])\n",
    "        print('Title:', embeddings.documents[index]['title'])\n",
    "        print('Lab:', embeddings.documents[index].get('pi', {}).get('title', ''))\n",
    "        print('Description:', embeddings.documents[index].get('description', '')[:description_max] + '...')\n",
    "        print('Similarity score:', score)"
   ]
  },
  {
   "cell_type": "code",
   "execution_count": 8,
   "id": "e3abeb5e",
   "metadata": {},
   "outputs": [
    {
     "data": {
      "text/plain": [
       "[(11, 0.8345040991625541), (25, 0.8264576891321728), (39, 0.8218675418865923)]"
      ]
     },
     "execution_count": 8,
     "metadata": {},
     "output_type": "execute_result"
    }
   ],
   "source": [
    "crispr_results = embeddings.get_k_results_most_similar_to_query(\n",
    "    query='crispr',\n",
    "    k=3\n",
    ")\n",
    "crispr_results"
   ]
  },
  {
   "cell_type": "code",
   "execution_count": 9,
   "id": "e185d825",
   "metadata": {},
   "outputs": [
    {
     "name": "stdout",
     "output_type": "stream",
     "text": [
      "\n",
      "ID: /awards/U01HG009395/\n",
      "Title: ENCODING GENOMIC ARCHITECTURE IN THE ENCYCLOPEDIA: LINKING DNA ELEMENTS, CHROMATIN STATE, AND GENE EXPRESSION IN 3D\n",
      "Lab: Christina Leslie\n",
      "Description: Most of the 1000s of sequencing experiments generated by ENCODE provide 1D readouts of the epigenetic landscape or transcriptional output of a 3D genome. New chromosome conformation capture (3C) technologies – in particular Hi-C and ChIA-PET – have begun to provide insight into the hierarchical 3D organization of the genome: the partition of chromosomes into open and closed compartments; the existence of structural subunits defined as topologically associated domains (TADs); and the presence of regulatory and structural DNA loops within TADs. New experimental evidence using CRISPR/Cas-mediated genome editing suggests that disruption of local 3D structure can alter regulation of neighboring genes, and there have been early efforts to use data on 3D DNA looping to predict the impact of non-coding SNPs from GWAS studies. The goal of this proposal is to develop new integrative computational methods to interpret large-scale ENCODE 1D epigenomic and transcriptomic resources in light of the underlying 3D architecture of the genome. Members of our team have pioneered powerful methods to infer local chromatin states from a 1D viewpoint through the Segway suite. We have also analyzed the 1D organization of chromatin accessible elements and their lineage dynamics to define the concept of regulatory complexity, and we presented a gene regulation model to predict gene expression changes in differentiation from the DNA content of active enhancers. Here we will build on these efforts to learn chromatin state and gene regulation models that incorporate information on hierarchical 3D genomic architecture, enabling us to predict how individual structural/regulatory elements contribute to 3D DNA looping and to gene expression. Mechanistic predictions will be experimentally validated in their native cell-type specific chromatin context using state-of-the-art genome editing, exploiting computational and experimental CRISPR/Cas tools developed by our team....\n",
      "Similarity score: 0.8345040991625541\n",
      "\n",
      "ID: /awards/UM1HG009435/\n",
      "Title: COMPREHENSIVE FUNCTIONAL CHARACTERIZATION AND DISSECTION OF NONCODING REGULATORY ELEMENTS AND HUMAN GENETIC VARIATION\n",
      "Lab: Pardis Sabeti\n",
      "Description: Project Summary The ENCODE project has generated comprehensive maps of cis-regulatory elements (CREs) controlling the transcription of genes within the human genome. These maps have been crucial in our efforts to understand sequence variants linked to human traits and disease, as the majority of these variants are non- coding regulatory changes rather than amino acid substitutions. However, even though we know the locations of thousands of CREs, our understanding of how they operate is derived from a relatively small set of well- described examples. Therefore, we plan to directly characterize the function of ENCODE CREs at a genome- wide scale in multiple cell-types. This will transition the field of functional genomics from a simple map of regulatory elements towards a deep understanding of the fundamental rules governing regulatory logic down to the basepair resolution. Achieving this will dramatically expand ENCODE's utility by strengthening our ability to interpret the effects of natural human variation on gene regulation. We propose to directly measure regulatory activity of over 3% of the genome, pursuing loci highlighted as important by ENCODE and other functional data. We will first apply computational methods to identify the most biologically informative CREs, representing a diversity of regulatory logic and architecture, and will use machine learning techniques to prioritize functional variants for characterization relevant to common and rare human diseases, traits, and adaptation. Of these we will select 200,000 CREs and 300,000 variants, representing 100 Mb of genomic sequence, and characterize them using the massively parallel reporter assay (MPRA) to understand each element's regulatory activity. Then, to complement data from the MPRA, we will characterize additional 1 Mb regions across 10 loci using CRISPR-based non-coding screens to build a comprehensive picture of these loci. This strategy leverages the throughput and flexibility of MPRA while maint...\n",
      "Similarity score: 0.8264576891321728\n",
      "\n",
      "ID: /awards/UM1HG009436/\n",
      "Title: HIGH-THROUGHPUT SYSTEMATIC CHARACTERIZATION OF REGULATORY ELEMENT FUNCTION\n",
      "Lab: Will Greenleaf\n",
      "Description: The ENCODE project has produced high-resolution, high-quality maps of components of the `regulome' in a set of tissues and cell lines, identifying a collection of putative regulatory elements. Our proposal aims to test the functional relevance of these putative elements with high-throughput, pooled CRISPR screens. This powerful platform will allow us to up-regulate, down-regulate, or mutate specific regulatory elements, and then probe the effects of these perturbations on cell survival under normal growth conditions, and a variety of stress conditions (oxidative stress, ricin toxicity, and nutrient deprivation) that produce differential sensitivities to gene expression. To establish our targets, we will use ENCODE data in concert with other consortia-generated data using an integrative analysis pipeline that leverages both correlation between element activity and gene expression, and higher order chromatin interactions to link functional elements with potential target genes. For ~3000 genes for which we have observed that perturbation affects proliferation, we will generate multiple libraries of ~100,000 guide RNAs for redundantly perturbing 20,000 enhancers linked to these genes through our analysis. After identifying “hits” in this screen by sequencing the guide RNA libraries before and after proliferation under our test conditions to observe a reduction in specific guides, we will also test combinations of enhancer elements that may act in a cooperative or redundant fashion, exploring the functional linkages with a specific focus on superenhancers and their sub-elements. With these phenotypic validation data in hand, we will carry out molecular mechanistic validation by choosing 100 individual elements, and 50 combinations of elements to generate stable cell lines with engineered genetic ablation of elements, and carry out genome- wide molecular characterization of accessible chromatin (ATAC-seq), chromatin looping (HiChIA, a novel, high- efficiency chromatin loo...\n",
      "Similarity score: 0.8218675418865923\n"
     ]
    }
   ],
   "source": [
    "print_results(crispr_results, embeddings, description_max=2000)"
   ]
  },
  {
   "cell_type": "code",
   "execution_count": 10,
   "id": "b248f61c",
   "metadata": {},
   "outputs": [
    {
     "data": {
      "text/plain": [
       "[(18, 1.0000000050508615), (11, 0.9244194182656655), (44, 0.9151913345001851)]"
      ]
     },
     "execution_count": 10,
     "metadata": {},
     "output_type": "execute_result"
    }
   ],
   "source": [
    "similar_awards = embeddings.get_k_results_most_similar_to_id(\n",
    "    '/awards/UM1HG009375/',\n",
    "    k=3\n",
    ")\n",
    "similar_awards"
   ]
  },
  {
   "cell_type": "code",
   "execution_count": 11,
   "id": "993e4622",
   "metadata": {
    "scrolled": false
   },
   "outputs": [
    {
     "name": "stdout",
     "output_type": "stream",
     "text": [
      "\n",
      "ID: /awards/UM1HG009375/\n",
      "Title: GENOME WIDE MAPPING OF LOOPS USING IN SITU HI-C\n",
      "Lab: Erez Aiden\n",
      "Description: The roughly two meters of DNA in the human genome is intricately packaged to form the chromatin and chromosomes in each cell nucleus. In addition to its structural role, this organization has critical regulatory functions. In particular, the formation of loops in the human genome plays an essential role in regulating genes. We recently demonstrated the ability to create reliable maps of these loops, using an in situ Hi-C method for three-dimensional genome sequencing. Hi-C characterizes the three dimensional configuration of the genome by determining the frequency of physical contact between all pairs of loci, genome-wide. The proposed center will apply Hi-C and other new technologies to characterize genomic loops, their regulation, and their functions. We will specifically examine these structures in a wide variety of ENCODE cell types. The principles deduced from our study will be applicable to any mammalian tissue type.  Aim 1 will apply Hi-C to 80 cell types to generate maps of loops genome-wide. Aim 2 will combine Hi-C data with existing ENCODE data in order to identify the specific DNA elements responsible for establishing each loop. Aim 3 will share these datasets through our Juicebox data visualization system.   The proposed project will advance our understanding of the determinants and functions of chromatin loops, provide a critical reference of loop structures in the human and mouse genomes, and present a technological framework for comprehensive analysis of genome...\n",
      "Similarity score: 1.0000000050508615\n",
      "\n",
      "ID: /awards/U01HG009395/\n",
      "Title: ENCODING GENOMIC ARCHITECTURE IN THE ENCYCLOPEDIA: LINKING DNA ELEMENTS, CHROMATIN STATE, AND GENE EXPRESSION IN 3D\n",
      "Lab: Christina Leslie\n",
      "Description: Most of the 1000s of sequencing experiments generated by ENCODE provide 1D readouts of the epigenetic landscape or transcriptional output of a 3D genome. New chromosome conformation capture (3C) technologies – in particular Hi-C and ChIA-PET – have begun to provide insight into the hierarchical 3D organization of the genome: the partition of chromosomes into open and closed compartments; the existence of structural subunits defined as topologically associated domains (TADs); and the presence of regulatory and structural DNA loops within TADs. New experimental evidence using CRISPR/Cas-mediated genome editing suggests that disruption of local 3D structure can alter regulation of neighboring genes, and there have been early efforts to use data on 3D DNA looping to predict the impact of non-coding SNPs from GWAS studies. The goal of this proposal is to develop new integrative computational methods to interpret large-scale ENCODE 1D epigenomic and transcriptomic resources in light of the underlying 3D architecture of the genome. Members of our team have pioneered powerful methods to infer local chromatin states from a 1D viewpoint through the Segway suite. We have also analyzed the 1D organization of chromatin accessible elements and their lineage dynamics to define the concept of regulatory complexity, and we presented a gene regulation model to predict gene expression changes in differentiation from the DNA content of active enhancers. Here we will build on these efforts to lea...\n",
      "Similarity score: 0.9244194182656655\n",
      "\n",
      "ID: /awards/1U54DK107980/\n",
      "Title: CENTER FOR 3D STRUCTURE AND PHYSICS OF THE GENOME\n",
      "Lab: Job Dekker\n",
      "Description: The spatial organization of the genome impinges on all genomic processes, including gene regulation, maintenance of genome stability and chromosome transmission to daughter cells. A detailed understanding of the spatial arrangement of the human genome, referred to as the 4D nucleome, and the biological and physical principles that drive chromosome folding requires combining approaches from the fields of molecular and cell biology, imaging, genetics and genomics with approaches from physics, computational biology, and computer simulation. We have assembled a highly interdisciplinary center with the goal of generating extensively validated maps of the 4D nucleome, its physical and dynamic properties and its role in regulating the activity of the genome. First, the center will further optimize and extensively validate a suite of genome-wide molecular methodologies, based on chromosome conformation capture (3C) that can probe the folding of chromosomes at the scale of single nucleosomes, chromatin fibers, chromosomes and the entire nucleus, across cell populations and in single cells. Given that chromosome and nuclear organization is tightly linked to biological state of the cell, the center will map the 4D nucleome for four key biological states representing different conformations during the cell cycle (interphase and mitosis), and during cell differentiation (pluripotent and differentiated states). We will obtain complementary data regarding the structure and dynamics of chrom...\n",
      "Similarity score: 0.9151913345001851\n"
     ]
    }
   ],
   "source": [
    "print_results(similar_awards, embeddings)"
   ]
  },
  {
   "cell_type": "code",
   "execution_count": 12,
   "id": "6e8809aa",
   "metadata": {},
   "outputs": [],
   "source": [
    "data_coordination_results = embeddings.get_k_results_most_similar_to_query(\n",
    "    query='data coordination center',\n",
    "    k=3\n",
    ")"
   ]
  },
  {
   "cell_type": "code",
   "execution_count": 13,
   "id": "64fc9cec",
   "metadata": {
    "scrolled": false
   },
   "outputs": [
    {
     "name": "stdout",
     "output_type": "stream",
     "text": [
      "\n",
      "ID: /awards/U24HG009397/\n",
      "Title: A DATA COORDINATING CENTER FOR ENCODE\n",
      "Lab: J. Michael Cherry\n",
      "Description: The goals of the ENCODE Data Coordinating Center (DCC) is to support the ENCODE Consortium by defining and establishing a strategy that connects all participants to the data and by creating avenues of access that distribute these data to the greater biological research community. The ENCODE Consortium brings together laboratories that generate complex data types via experimental assays with laboratories that integrate these unique data using computational analyses to discover how chromosomal elements function together to define human cells and tissues. The DCC's participation enhances the data created by these laboratories through the creation of structured procedures for the verification and validation of all submitted data and providing processes for the documentation of metadata that describe each biological sample and assay method. To facilitate access to all the data created the DCC will construct a state of the art data warehouse. The DCC will design and development robust software to enhance the data submission and unified data processing pipelines, the organization and access to metadata and the data warehouse. In addition, we will develop and maintain the ENCODE Portal that will be the primary entry point to the wealth of experimentally determined information as well as results of computational analyses. The Portal will integrate these data resources and make them available via enhanced search and browsing capabilities. Tools will be implemented to aid discovery by b...\n",
      "Similarity score: 0.8361785938546814\n",
      "\n",
      "ID: /awards/U24HG009446/\n",
      "Title: EDAC: ENCODE DATA ANALYSIS CENTER\n",
      "Lab: Zhiping Weng\n",
      "Description: The goal of the Encyclopedia of DNA Elements (ENCODE) project is to catalog all functional elements in the human genome through the integration and analysis of high-throughput data. We propose to continue the ENCODE Data Analysis Center (EDAC, DAC) which will provide support and leadership in analyzing and integrating data from the ENCODE project as well as work closely with other ENCODE groups including the Data Coordination Center. Our proposed DAC team (Zhiping Weng, Mark Gerstein, Manolis Kellis, Roderic Guigo, Rafael Irizarry, X. Shirley Liu, Anshul Kundaje, and William Noble) has expertise across a wide range of fields including transcriptional regulation, epigenetics, evolution, genomics and proteomics, regulatory RNA, biophysics, and computational biology, where they are the leaders in machine learning, statistical genetics, networks, and gene annotation. These investigators also have a history of successfully working collaboratively in large consortia, particularly with other ENCODE groups. Their publication records demonstrate their synergistic approach to producing high-impact science and useful resources that benefit the broader biomedical communities. The proposed DAC will pursue the following four aims: Aim 1. Analyze and integrate data and metadata from a broad range of functional genomics projects; Aim 2. Serve as an informatics resource by supporting the activities of the ENCODE Analysis Working Group; Aim 3. Create high-quality Encyclopedias of DNA elements ...\n",
      "Similarity score: 0.7883797860911651\n",
      "\n",
      "ID: /awards/UM1HG009444/\n",
      "Title: ENCODE MAPPING CENTER-A COMPREHENSIVE CATALOG OF DNASE I HYPERSENSITIVE SITES\n",
      "Lab: John Stamatoyannopoulos\n",
      "Description: The overall mission of this Mapping Center is to create and disseminate open access, comprehensive, high-quality, high-resolution reference maps of DNase I hypersensitive sites (DHSs) in the human and mouse genomes, at previously unattainable levels of cellular and anatomical definition. Regulatory DNA is actuated in an exceptionally state-specific manner;; accordingly, achieving a comprehensive map of DHSs necessitates the interrogation of an expansive and finely partitioned range of cell and tissue samples. Progressive technical improvements and recent innovations have resulted in dramatic (>100x) decreases in requisite input biological sample quantities coupled with equally dramatic (>100x) increases in assay throughput, and corresponding decreases in the incremental cost of generating reference-quality DHS maps. These advances have in turn opened the possibility of systematically addressing all well-defined physiologically and disease-relevant anatomic and cellular compartments. Four major Specific Aims are targeted: (1) To create open access, comprehensive high-quality, high- resolution reference maps of human DNase I hypersensitive sites; (2) To create and disseminate comprehensive high-quality, high-resolution reference maps of mouse DNase I hypersensitive sites; (3) To maintain and disseminate reference indices of DNase I hypersensitive sites and footprints in the human and mouse genomes; and (4) To enable large-scale intake of Consortium and Community samples for hig...\n",
      "Similarity score: 0.7845773456632268\n"
     ]
    }
   ],
   "source": [
    "print_results(data_coordination_results, embeddings)"
   ]
  },
  {
   "cell_type": "code",
   "execution_count": 14,
   "id": "1452acf1",
   "metadata": {},
   "outputs": [
    {
     "name": "stdout",
     "output_type": "stream",
     "text": [
      "\n",
      "ID: /awards/U01HG007919/\n",
      "Title: GENOMICS OF GENE REGULATION IN PROGENITOR TO DIFFERENTIATED KERATINOCYTES\n",
      "Lab: Michael Snyder\n",
      "Description: The modeling of transcription to genome proximal elements to date has revealed associations, but seldom are disruptions performed to confirm mechanistic possibilities and substantiate causality. In studying multistate cell systems, many processes important to human health are difficult to study due to low cell availability and/or dyssynchrony leading to heterogeneous cell populations. We propose to study a model of the human epidermal differentiation system, which by its intrinsic properties does not have these problems but at the same time closely simulates the native process. We plan to perform multiple next generation sequencing modalities of transcription and gene proximal components over a time course spanning the transition from progenitor to differentiated keratinocytes. A network based on boosting methods and dynamic Bayesian networks will then be generated to model transcription to the gene proximal components, and this construct will be tested with various regulatory disruptions. Moreover, additional assays of transcription and gene proximal components will be performed during intervals which the model suggests will be particularly illuminating for epidermal differentiation. With these new data, the model will be further refined, and this cycle will be repeated multiple times. Because of the tractability of our experimental system to a vast array of sequencing assays and regulatory disruptions, we will be able to achieve an understanding of how much each assay contr...\n",
      "Similarity score: 0.7360245590669843\n",
      "\n",
      "ID: /awards/UM1HG009442/\n",
      "Title: PRODUCTION CENTER FOR MAPPING REGULATORY REGIONS OF THE HUMAN GENOME\n",
      "Lab: Michael Snyder\n",
      "Description: Although our ability to determine the genome sequence of individuals is becoming facile, our understanding of the function of most of the human genome is limited. Mapping of regulatory information is particularly crucial since most (>85%) common variants associated with human disease lie outside of coding regions. Previous phases of ENCODE have made important contributions to the mapping of regulatory elements across the genome, but there is much more to be acheived, including the mapping of regulatory regions across many more tissues and at the resolution of individual cells as well as determining the exact regulators i.e. transcription factors that bind each region. In our Stanford ENCODE Production Center for Mapping of Regulatory Regions, we plan to use technologies that we have developed to map the binding sites for most transcription factors (TFs) in five major cell lines using chromatin immunoprecipitation of tagged TFs. We will further expand the catalog of regulatory elements by analyzing open chromatin regions in these cell lines and a wide variety of tissues and cell types from both normal and diseased human subjects consented for open access. Finally, we will map open chromatin regions in single cells from these types of biosamples. These studies will greatly expand the catalog of regulatory regions in the human genome. The rapid deposition of data into the ENCODE Data Coordinating Center (DCC) will ensure quick public release. We expect the data and cell lines th...\n",
      "Similarity score: 0.7340986061541568\n"
     ]
    }
   ],
   "source": [
    "print_results(\n",
    "    embeddings.get_k_results_most_similar_to_query(\n",
    "        query='snyder',\n",
    "        k=2\n",
    "    ),\n",
    "    embeddings,\n",
    ")"
   ]
  },
  {
   "cell_type": "code",
   "execution_count": 15,
   "id": "16e2466d",
   "metadata": {
    "scrolled": false
   },
   "outputs": [
    {
     "name": "stdout",
     "output_type": "stream",
     "text": [
      "\n",
      "ID: /awards/U01HG007910/\n",
      "Title: RULES OF GENE EXPRESSION MODELED ON HUMAN DENDRITIC CELL RESPONSE TO PATHOGENS\n",
      "Lab: Jeremy Luban\n",
      "Description: The developmental shifts that occur when cells respond to environmental stimuli are controlled in large part by gene expression programs involving thousands of genes. Transcription factors (TFs), chromatin modifying enzymes, and cis-acting DNA elements contribute to the networks that underlie such programs. The code that links these variables in such a way that the expression of a given gene can be predicted based on the presence of specific components has yet to be deciphered. A model for such a code will be constructed here based on genome-wide analysis of human dendritic cells (DCs) as they mature in response to pathogens. DCs are antigen-presenting cells that initiate and determine the quality and magnitude of the host immune response. Recent technical advances in stem cell biology, reverse-genetic tools for primary human cells, and genome-wide assessment of transcripts, local chromatin features and long-range chromatin interactions, will be exploited here to construct a model for the transcriptional regulatory network that underlies pathogen detection and maturation in human DCs. In Aim 1, DCs will be sampled in a time-course following stimulation with LPS. Stimulation-responsive genes will be identified by RNA-Seq. Chromatin features will be mapped using ChIP-Seq, high-resolution global DNA foot printing, and Hi-C. This systematic map of all responsive genes and the regulatory regions associated with them will be combined with known DNA-binding motifs to generate an ini...\n",
      "Similarity score: 0.8039430699640817\n",
      "\n",
      "ID: /awards/GM046883/\n",
      "Title: MOUSE X INACTIVATION\n",
      "Lab: Christine Disteche\n",
      "Description: Epigenetic modifications modulate gene expression in normal development and in diseases, such as cancer. X chromosome regulation is an example of coordinate epigenetic regulation of gene expression at the level of an entire chromosome. Our goal is to investigate the epigenetic regulation of X-linked genes in mammals. Genes on the X chromosome are dosage compensated by two processes: upregulation of the active X chromosome in both sexes, and X inactivation in females. A subset of genes escapes X inactivation and thus has higher expression in females. The importance of these genes in normal development is illustrated by the phenotypic anomalies including embryonic lethality in Turner syndrome, which is associated with a single X chromosome. We will investigate the molecular mechanisms that allow genes that escape X inactivation to be expressed within the context of silenced chromatin....\n",
      "Similarity score: 0.7935592353124822\n",
      "\n",
      "ID: /awards/R35GM124820/\n",
      "Title: IMPACT OF GENETIC VARIANTS ON GENE REGULATION AND 3D GENOME ORGANIZATION IN HUMAN DISEASES\n",
      "Lab: Feng Yue\n",
      "Description: PROJECT SUMMARY / ABSTRACT Genome-wide association studies (GWAS) have discovered thousands of genetic variations that are associated with hundreds of complex human diseases. However, the underlying mechanisms of how these variants contribute to disease pathogenesis remain obscure. One of the main hurdles is that the majority of disease-associated variants identified are located in the non-coding regions, whose annotations and functions are traditionally poorly understood. Thanks to recent efforts by the ENCODE and Epigenome Roadmap projects, we have identified millions of potential non-coding regulatory elements in the human genome, mainly based on high-throughput assays such as DNase-Seq or ChIP-Seq data. More importantly, it has been shown that 77% of the disease-associated SNPs are located within a potential regulatory region. However, there have been very few studies in which functional experiments were properly performed to elucidate how SNPs can disrupt the function of a distal regulatory element and influence the phenotypes. Another daunting task is how to identify target genes for the distal regulatory elements that harbor the disease-associated SNP. This is a challenging problem because enhancers can work from either upstream or downstream of their target genes, and can be located as far as 1 million base pairs away and still function through chromatin looping. High-throughput methods based on Chromatin Conformation Capture (3C) have emerged (such as Hi-C and ChIA-P...\n",
      "Similarity score: 0.7906683860269844\n",
      "\n",
      "ID: /awards/UM1HG009428/\n",
      "Title: REGULATORY MECHANISMS OF CD4+ T CELL DIFFERENTIATION\n",
      "Lab: Tim Reddy\n",
      "Description: There is a fundamental gap in understanding how the millions of known regulatory elements functionally contribute to gene regulation and phenotypes. Continued existence of that gap is an important problem because, until it is filled, it will remain extremely difficult to identify the genetic mechanisms underlying the thousands of observed genetic associations with disease phenotypes. Our long-term goal is to understand how and to what extent gene regulatory elements alter target gene expression and impact phenotypes. The objectives of this particular proposal are to functionally characterize all regulatory elements contributing to the differentiation of CD4+ T cells. In doing so, we will identify the causal regulatory mechanisms that modulate the immune system. The rationale for this work is that understanding those mechanisms will be the foundation for future efforts to therapeutically modulate the immune system, and will establish a discovery platform for determining the mechanisms underlying countless other model systems. Specifically, we will characterize three complementary components of regulatory element activity: (i) the capacity of regulatory elements to drive expression of a reporter gene, (ii) the effect of each regulatory element on the expression of one or more target genes, and (iii) the contributions of regulatory elements to phenotypic function, namely differentiation. We will accomplish those goals across three specific aims. In Aim 1, we will quantify the ac...\n",
      "Similarity score: 0.7896611564065175\n",
      "\n",
      "ID: /awards/U01HG007912/\n",
      "Title: RIBONOMICS OF GENE REGULATION TO PREDICT INNATE IMMUNE RESPONSES\n",
      "Lab: Alexander Hoffmann\n",
      "Description: The expression of genes involves a sequence of enzymatic events, such as transcription, mRNA processing, mRNA decay, and translation, that are subject to gene regulatory networks (GRNs) of protein-nucleic acid interactions. It is well appreciated that the control of transcription via regulatory networks that regulate enhancer and promoter activities are not the sole determinant of what gene products result, but that exon skipping is pervasive and post-transcriptional mechanisms such as mRNA splicing and decay determine the kinetics of mRNA induction and abundance. Indeed, in our preliminary studies of the macrophage response to pathogens, we find that a majority of induced gene expression events result in mRNAs that deviate substantially from those predicted by the genome-browser, and that mRNA decay is controlled by both protein- nucleic acid and miRNA regulatory networks. The proposed Center for the \"Ribonomics\" of Gene Regulation leverages and pioneers Next Gen Sequencing and computational modeling approaches to develop a predictive model for which mRNA isoforms are expressed and at what level given a given promoter activity and transcription initiation rate. We will develop generally applicable tools in conjunction with or in depth and quantitative experimental analysis of the macrophage response to pathogen-associated endotoxin, which results in the dramatic up regulation of more than 1000 genes. Strikingly, our preliminary data identified more than 900 exon skipping eve...\n",
      "Similarity score: 0.7889108750847462\n"
     ]
    }
   ],
   "source": [
    "print_results(\n",
    "    embeddings.get_k_results_most_similar_to_query(\n",
    "        query='how cell phenotype is affected by gene mutations',\n",
    "        k=5\n",
    "    ),\n",
    "    embeddings,\n",
    ")"
   ]
  },
  {
   "cell_type": "code",
   "execution_count": 16,
   "id": "b3edcc33",
   "metadata": {},
   "outputs": [
    {
     "name": "stdout",
     "output_type": "stream",
     "text": [
      "\n",
      "ID: /awards/U01HG007910/\n",
      "Title: RULES OF GENE EXPRESSION MODELED ON HUMAN DENDRITIC CELL RESPONSE TO PATHOGENS\n",
      "Lab: Jeremy Luban\n",
      "Description: The developmental shifts that occur when cells respond to environmental stimuli are controlled in large part by gene expression programs involving thousands of genes. Transcription factors (TFs), chromatin modifying enzymes, and cis-acting DNA elements contribute to the networks that underlie such programs. The code that links these variables in such a way that the expression of a given gene can be predicted based on the presence of specific components has yet to be deciphered. A model for such a code will be constructed here based on genome-wide analysis of human dendritic cells (DCs) as they mature in response to pathogens. DCs are antigen-presenting cells that initiate and determine the quality and magnitude of the host immune response. Recent technical advances in stem cell biology, reverse-genetic tools for primary human cells, and genome-wide assessment of transcripts, local chromatin features and long-range chromatin interactions, will be exploited here to construct a model for the transcriptional regulatory network that underlies pathogen detection and maturation in human DCs. In Aim 1, DCs will be sampled in a time-course following stimulation with LPS. Stimulation-responsive genes will be identified by RNA-Seq. Chromatin features will be mapped using ChIP-Seq, high-resolution global DNA foot printing, and Hi-C. This systematic map of all responsive genes and the regulatory regions associated with them will be combined with known DNA-binding motifs to generate an ini...\n",
      "Similarity score: 0.8339030051648969\n",
      "\n",
      "ID: /awards/R01HG009518/\n",
      "Title: Big Data Methods for Decoding Gene Regulation\n",
      "Lab: Hongkai Ji\n",
      "Description: Project Summary A comprehensive understanding of how genes' activities are controlled temporally and spatially is crucial for studying human development and diseases. Transcription factors (TFs) are an important class of regulatory proteins that can control genes' transcriptional activities by binding to target genes' regulatory DNA sequences called cis-regulatory elements (CREs). A map of genome-wide activities of CREs, or “regulome”, in all cell types and biological conditions will provide a foundation for investigating the basic operating rules of biology, interpreting how genetic variants cause diseases, and guiding the development of disease treatment strategies. Unfortunately, existing experimental regulome mapping technologies cannot analyze a large number of samples efﬁciently. Thus far, they have only been applied to map regulomes in a small fraction of all biological contexts. As a result, today a comprehensive map of human regulatory landscape is still lacking. This study aims to develop a solution to mapping regulomes in a massive number of biological samples from diverse cell types and conditions by leveraging publicly available functional genomic data. We will use the rich gene expression and regulome data generated by the Encyclopedia of DNA Elements (ENCODE) project to develop a new prediction approach that predicts a biological sample's regulome using its transcriptome (Aim 1). We will then apply the trained prediction models to 290,000+ publicly available hu...\n",
      "Similarity score: 0.8230711832443431\n",
      "\n",
      "ID: /awards/U01HG007912/\n",
      "Title: RIBONOMICS OF GENE REGULATION TO PREDICT INNATE IMMUNE RESPONSES\n",
      "Lab: Alexander Hoffmann\n",
      "Description: The expression of genes involves a sequence of enzymatic events, such as transcription, mRNA processing, mRNA decay, and translation, that are subject to gene regulatory networks (GRNs) of protein-nucleic acid interactions. It is well appreciated that the control of transcription via regulatory networks that regulate enhancer and promoter activities are not the sole determinant of what gene products result, but that exon skipping is pervasive and post-transcriptional mechanisms such as mRNA splicing and decay determine the kinetics of mRNA induction and abundance. Indeed, in our preliminary studies of the macrophage response to pathogens, we find that a majority of induced gene expression events result in mRNAs that deviate substantially from those predicted by the genome-browser, and that mRNA decay is controlled by both protein- nucleic acid and miRNA regulatory networks. The proposed Center for the \"Ribonomics\" of Gene Regulation leverages and pioneers Next Gen Sequencing and computational modeling approaches to develop a predictive model for which mRNA isoforms are expressed and at what level given a given promoter activity and transcription initiation rate. We will develop generally applicable tools in conjunction with or in depth and quantitative experimental analysis of the macrophage response to pathogen-associated endotoxin, which results in the dramatic up regulation of more than 1000 genes. Strikingly, our preliminary data identified more than 900 exon skipping eve...\n",
      "Similarity score: 0.8207030715451473\n"
     ]
    }
   ],
   "source": [
    "print_results(\n",
    "    embeddings.get_k_results_most_similar_to_query(\n",
    "        query='how proteins regulate dna expression',\n",
    "        k=3\n",
    "    ),\n",
    "    embeddings,\n",
    ")"
   ]
  },
  {
   "cell_type": "code",
   "execution_count": 18,
   "id": "26704816",
   "metadata": {},
   "outputs": [],
   "source": [
    "embeddings.save('./data/awards')"
   ]
  },
  {
   "cell_type": "code",
   "execution_count": null,
   "id": "6ef1f439",
   "metadata": {},
   "outputs": [],
   "source": []
  }
 ],
 "metadata": {
  "kernelspec": {
   "display_name": "Python 3 (ipykernel)",
   "language": "python",
   "name": "python3"
  },
  "language_info": {
   "codemirror_mode": {
    "name": "ipython",
    "version": 3
   },
   "file_extension": ".py",
   "mimetype": "text/x-python",
   "name": "python",
   "nbconvert_exporter": "python",
   "pygments_lexer": "ipython3",
   "version": "3.10.11"
  }
 },
 "nbformat": 4,
 "nbformat_minor": 5
}
