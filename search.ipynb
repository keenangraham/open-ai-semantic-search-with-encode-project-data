{
 "cells": [
  {
   "cell_type": "code",
   "execution_count": 40,
   "id": "292c4307",
   "metadata": {},
   "outputs": [],
   "source": [
    "import openai\n",
    "import numpy as np\n",
    "import pandas as pd\n",
    "import requests\n",
    "import os\n",
    "\n",
    "from numpy.linalg import norm"
   ]
  },
  {
   "cell_type": "code",
   "execution_count": 18,
   "id": "fbbc6033",
   "metadata": {},
   "outputs": [],
   "source": [
    "api_key = os.environ['OPENAI_API_KEY']\n",
    "openai.api_key = api_key"
   ]
  },
  {
   "cell_type": "code",
   "execution_count": 19,
   "id": "42f0e69b",
   "metadata": {},
   "outputs": [],
   "source": [
    "data = 'Homo sapiens HepG2 genetically modified (insertion) using CRISPR targeting H. sapiens PIN1'"
   ]
  },
  {
   "cell_type": "code",
   "execution_count": 20,
   "id": "b01f7d30",
   "metadata": {},
   "outputs": [],
   "source": [
    "model = 'text-embedding-ada-002'"
   ]
  },
  {
   "cell_type": "code",
   "execution_count": 21,
   "id": "c9e98cc7",
   "metadata": {},
   "outputs": [],
   "source": [
    "response = openai.Embedding.create(\n",
    "    input=data,\n",
    "    model=model,\n",
    ")"
   ]
  },
  {
   "cell_type": "code",
   "execution_count": 28,
   "id": "d6324075",
   "metadata": {
    "scrolled": false
   },
   "outputs": [],
   "source": [
    "search_embedding = np.array(response['data'][0]['embedding'])"
   ]
  },
  {
   "cell_type": "code",
   "execution_count": 29,
   "id": "fcf9b5db",
   "metadata": {},
   "outputs": [],
   "source": [
    "response = openai.Embedding.create(\n",
    "    input='chip-seq experiments in humans',\n",
    "    model=model,\n",
    ")"
   ]
  },
  {
   "cell_type": "code",
   "execution_count": 30,
   "id": "fc133042",
   "metadata": {},
   "outputs": [],
   "source": [
    "query_embedding = np.array(response['data'][0]['embedding'])"
   ]
  },
  {
   "cell_type": "code",
   "execution_count": 31,
   "id": "106d1548",
   "metadata": {},
   "outputs": [
    {
     "data": {
      "text/plain": [
       "array([-0.02876394,  0.00399126,  0.00338419, ..., -0.02887126,\n",
       "       -0.01529426,  0.0010498 ])"
      ]
     },
     "execution_count": 31,
     "metadata": {},
     "output_type": "execute_result"
    }
   ],
   "source": [
    "query_embedding"
   ]
  },
  {
   "cell_type": "code",
   "execution_count": 34,
   "id": "0f0ffb72",
   "metadata": {},
   "outputs": [
    {
     "data": {
      "text/plain": [
       "0.8424903302990354"
      ]
     },
     "execution_count": 34,
     "metadata": {},
     "output_type": "execute_result"
    }
   ],
   "source": [
    "search_embedding.dot(query_embedding)"
   ]
  },
  {
   "cell_type": "code",
   "execution_count": 42,
   "id": "cf0289ed",
   "metadata": {},
   "outputs": [
    {
     "data": {
      "text/plain": [
       "0.8424903587550906"
      ]
     },
     "execution_count": 42,
     "metadata": {},
     "output_type": "execute_result"
    }
   ],
   "source": [
    "np.dot(query_embedding, search_embedding) / norm(search_embedding) * norm(query_embedding)"
   ]
  },
  {
   "cell_type": "code",
   "execution_count": null,
   "id": "e005bf96",
   "metadata": {},
   "outputs": [],
   "source": []
  }
 ],
 "metadata": {
  "kernelspec": {
   "display_name": "Python 3 (ipykernel)",
   "language": "python",
   "name": "python3"
  },
  "language_info": {
   "codemirror_mode": {
    "name": "ipython",
    "version": 3
   },
   "file_extension": ".py",
   "mimetype": "text/x-python",
   "name": "python",
   "nbconvert_exporter": "python",
   "pygments_lexer": "ipython3",
   "version": "3.10.10"
  }
 },
 "nbformat": 4,
 "nbformat_minor": 5
}
