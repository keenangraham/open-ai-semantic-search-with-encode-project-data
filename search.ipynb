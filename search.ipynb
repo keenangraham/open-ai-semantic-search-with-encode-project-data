{
 "cells": [
  {
   "cell_type": "code",
   "execution_count": 145,
   "id": "a12ab147",
   "metadata": {},
   "outputs": [],
   "source": [
    "import openai\n",
    "\n",
    "import numpy as np\n",
    "\n",
    "import pandas as pd\n",
    "\n",
    "import requests\n",
    "\n",
    "import os\n",
    "\n",
    "from numpy.linalg import norm\n",
    "\n",
    "from openai.embeddings_utils import cosine_similarity"
   ]
  },
  {
   "cell_type": "code",
   "execution_count": 142,
   "id": "d9bb6b7d",
   "metadata": {},
   "outputs": [],
   "source": [
    "api_key = os.environ['OPENAI_API_KEY']\n",
    "openai.api_key = api_key"
   ]
  },
  {
   "cell_type": "code",
   "execution_count": 19,
   "id": "2f2d40f5",
   "metadata": {},
   "outputs": [],
   "source": [
    "data = 'Homo sapiens HepG2 genetically modified (insertion) using CRISPR targeting H. sapiens PIN1'"
   ]
  },
  {
   "cell_type": "code",
   "execution_count": 20,
   "id": "05c64f9e",
   "metadata": {},
   "outputs": [],
   "source": [
    "model = 'text-embedding-ada-002'"
   ]
  },
  {
   "cell_type": "code",
   "execution_count": 21,
   "id": "964c295a",
   "metadata": {},
   "outputs": [],
   "source": [
    "response = openai.Embedding.create(\n",
    "    input=data,\n",
    "    model=model,\n",
    ")"
   ]
  },
  {
   "cell_type": "code",
   "execution_count": 28,
   "id": "03525612",
   "metadata": {
    "scrolled": false
   },
   "outputs": [],
   "source": [
    "search_embedding = np.array(response['data'][0]['embedding'])"
   ]
  },
  {
   "cell_type": "code",
   "execution_count": 29,
   "id": "09ab73f8",
   "metadata": {},
   "outputs": [],
   "source": [
    "response = openai.Embedding.create(\n",
    "    input='chip-seq experiments in humans',\n",
    "    model=model,\n",
    ")"
   ]
  },
  {
   "cell_type": "code",
   "execution_count": 30,
   "id": "8c7c53f4",
   "metadata": {},
   "outputs": [],
   "source": [
    "query_embedding = np.array(response['data'][0]['embedding'])"
   ]
  },
  {
   "cell_type": "code",
   "execution_count": 31,
   "id": "445e0d38",
   "metadata": {},
   "outputs": [
    {
     "data": {
      "text/plain": [
       "array([-0.02876394,  0.00399126,  0.00338419, ..., -0.02887126,\n",
       "       -0.01529426,  0.0010498 ])"
      ]
     },
     "execution_count": 31,
     "metadata": {},
     "output_type": "execute_result"
    }
   ],
   "source": [
    "query_embedding"
   ]
  },
  {
   "cell_type": "code",
   "execution_count": 34,
   "id": "3f6b2ba0",
   "metadata": {},
   "outputs": [
    {
     "data": {
      "text/plain": [
       "0.8424903302990354"
      ]
     },
     "execution_count": 34,
     "metadata": {},
     "output_type": "execute_result"
    }
   ],
   "source": [
    "search_embedding.dot(query_embedding)"
   ]
  },
  {
   "cell_type": "code",
   "execution_count": 42,
   "id": "9d2968a0",
   "metadata": {},
   "outputs": [
    {
     "data": {
      "text/plain": [
       "0.8424903587550906"
      ]
     },
     "execution_count": 42,
     "metadata": {},
     "output_type": "execute_result"
    }
   ],
   "source": [
    "np.dot(query_embedding, search_embedding) / norm(search_embedding) * norm(query_embedding)"
   ]
  },
  {
   "cell_type": "code",
   "execution_count": 49,
   "id": "3c5d5aaf",
   "metadata": {},
   "outputs": [],
   "source": [
    "QE = np.random.random((5, len(query_embedding)))"
   ]
  },
  {
   "cell_type": "code",
   "execution_count": 54,
   "id": "7c1570ae",
   "metadata": {},
   "outputs": [
    {
     "data": {
      "text/plain": [
       "array([-0.61798462, -0.45261477, -0.57118642, -0.81987014, -0.51185065])"
      ]
     },
     "execution_count": 54,
     "metadata": {},
     "output_type": "execute_result"
    }
   ],
   "source": [
    "QE.dot(search_embedding)"
   ]
  },
  {
   "cell_type": "code",
   "execution_count": 66,
   "id": "82f19d21",
   "metadata": {},
   "outputs": [],
   "source": [
    "QE = np.array([query_embedding for i in range(10)])"
   ]
  },
  {
   "cell_type": "code",
   "execution_count": 67,
   "id": "7f89fd7b",
   "metadata": {},
   "outputs": [
    {
     "data": {
      "text/plain": [
       "array([0.84249033, 0.84249033, 0.84249033, 0.84249033, 0.84249033,\n",
       "       0.84249033, 0.84249033, 0.84249033, 0.84249033, 0.84249033])"
      ]
     },
     "execution_count": 67,
     "metadata": {},
     "output_type": "execute_result"
    }
   ],
   "source": [
    "QE.dot(search_embedding)"
   ]
  },
  {
   "cell_type": "code",
   "execution_count": 85,
   "id": "77554998",
   "metadata": {},
   "outputs": [],
   "source": [
    "def get_embedding(text, model='text-embedding-ada-002'):\n",
    "    response = openai.Embedding.create(\n",
    "        input=text,\n",
    "        model=model,\n",
    "    )\n",
    "    return np.array(response['data'][0]['embedding'])"
   ]
  },
  {
   "cell_type": "code",
   "execution_count": 147,
   "id": "5de78e9c",
   "metadata": {},
   "outputs": [
    {
     "data": {
      "text/plain": [
       "0.8103541864738757"
      ]
     },
     "execution_count": 147,
     "metadata": {},
     "output_type": "execute_result"
    }
   ],
   "source": [
    "cosine_similarity(sq1, qe1)"
   ]
  },
  {
   "cell_type": "code",
   "execution_count": 74,
   "id": "3c75a89d",
   "metadata": {},
   "outputs": [
    {
     "data": {
      "text/plain": [
       "array([ 0.00700889, -0.025697  ,  0.00135049, ..., -0.01850348,\n",
       "       -0.00406516, -0.01134415])"
      ]
     },
     "execution_count": 74,
     "metadata": {},
     "output_type": "execute_result"
    }
   ],
   "source": [
    "other_qe"
   ]
  },
  {
   "cell_type": "code",
   "execution_count": 75,
   "id": "e2d8fefc",
   "metadata": {},
   "outputs": [
    {
     "data": {
      "text/plain": [
       "0.6976445883953505"
      ]
     },
     "execution_count": 75,
     "metadata": {},
     "output_type": "execute_result"
    }
   ],
   "source": [
    "other_qe.dot(search_embedding)"
   ]
  },
  {
   "cell_type": "code",
   "execution_count": 76,
   "id": "72e1a247",
   "metadata": {},
   "outputs": [],
   "source": [
    "experiment_json = {\n",
    "  \"assay_term_name\": \"ChIP-seq\",\n",
    "  \"biosample_ontology\": \"/biosample-types/cell_line_EFO_0002067/\",\n",
    "  \"documents\": [\n",
    "    \n",
    "  ],\n",
    "  \"accession\": \"ENCSR668LDD\",\n",
    "  \"dbxrefs\": [\n",
    "    \"GEO:GSE96303\"\n",
    "  ],\n",
    "  \"date_released\": \"2016-11-08\",\n",
    "  \"doi\": \"10.17989/ENCSR668LDD\",\n",
    "  \"internal_tags\": [\n",
    "    \"ccre_inputv1\",\n",
    "    \"ENCYCLOPEDIAv1\",\n",
    "    \"RegulomeDB_2_2\",\n",
    "    \"ENCYCLOPEDIAv2\"\n",
    "  ],\n",
    "  \"lab\": \"/labs/bradley-bernstein/\",\n",
    "  \"award\": \"/awards/U54HG006991/\",\n",
    "  \"aliases\": [\n",
    "    \"bradley-bernstein:Project Element 96\"\n",
    "  ],\n",
    "  \"target\": \"/targets/H3K4me3-human/\",\n",
    "  \"assay_title\": \"Histone ChIP-seq\",\n",
    "  \"assay_slims\": [\n",
    "    \"DNA binding\"\n",
    "  ],\n",
    "  \"biosample_summary\": \"Homo sapiens K562\",\n",
    "  \"assay_term_id\": \"OBI:0000716\",\n",
    "  \"@id\": \"/experiments/ENCSR668LDD/\",\n",
    "  \"@type\": [\n",
    "    \"Experiment\",\n",
    "    \"Dataset\",\n",
    "    \"Item\"\n",
    "  ],\n",
    "  \"uuid\": \"934eed39-3a71-403c-85d0-d7b055f1269b\",\n",
    "  \"assembly\": [\n",
    "    \"GRCh38\",\n",
    "    \"hg19\"\n",
    "  ],\n",
    "  \"hub\": \"/experiments/ENCSR668LDD/@@hub/hub.txt\",\n",
    "  \"default_analysis\": \"/analyses/ENCAN646APS/\",\n",
    "  \"life_stage_age\": \"adult 53 years\",\n",
    "  \"perturbed\": False\n",
    "}"
   ]
  },
  {
   "cell_type": "code",
   "execution_count": 77,
   "id": "14c9048f",
   "metadata": {},
   "outputs": [
    {
     "data": {
      "text/plain": [
       "'{\"assay_term_name\": \"ChIP-seq\", \"biosample_ontology\": \"/biosample-types/cell_line_EFO_0002067/\", \"documents\": [], \"accession\": \"ENCSR668LDD\", \"dbxrefs\": [\"GEO:GSE96303\"], \"date_released\": \"2016-11-08\", \"doi\": \"10.17989/ENCSR668LDD\", \"internal_tags\": [\"ccre_inputv1\", \"ENCYCLOPEDIAv1\", \"RegulomeDB_2_2\", \"ENCYCLOPEDIAv2\"], \"lab\": \"/labs/bradley-bernstein/\", \"award\": \"/awards/U54HG006991/\", \"aliases\": [\"bradley-bernstein:Project Element 96\"], \"target\": \"/targets/H3K4me3-human/\", \"assay_title\": \"Histone ChIP-seq\", \"assay_slims\": [\"DNA binding\"], \"biosample_summary\": \"Homo sapiens K562\", \"assay_term_id\": \"OBI:0000716\", \"@id\": \"/experiments/ENCSR668LDD/\", \"@type\": [\"Experiment\", \"Dataset\", \"Item\"], \"uuid\": \"934eed39-3a71-403c-85d0-d7b055f1269b\", \"assembly\": [\"GRCh38\", \"hg19\"], \"hub\": \"/experiments/ENCSR668LDD/@@hub/hub.txt\", \"default_analysis\": \"/analyses/ENCAN646APS/\", \"life_stage_age\": \"adult 53 years\", \"perturbed\": false}'"
      ]
     },
     "execution_count": 77,
     "metadata": {},
     "output_type": "execute_result"
    }
   ],
   "source": [
    "import json\n",
    "json.dumps(experiment_json)"
   ]
  },
  {
   "cell_type": "code",
   "execution_count": 79,
   "id": "ca6e2323",
   "metadata": {},
   "outputs": [],
   "source": [
    "response = openai.Embedding.create(\n",
    "    input=json.dumps(experiment_json),\n",
    "    model=model,\n",
    ")\n",
    "json_se = np.array(response['data'][0]['embedding'])"
   ]
  },
  {
   "cell_type": "code",
   "execution_count": 83,
   "id": "b0a8ef31",
   "metadata": {},
   "outputs": [
    {
     "data": {
      "text/plain": [
       "0.7695160541969724"
      ]
     },
     "execution_count": 83,
     "metadata": {},
     "output_type": "execute_result"
    }
   ],
   "source": [
    "json_se.dot(search_embedding)"
   ]
  },
  {
   "cell_type": "code",
   "execution_count": 84,
   "id": "a3da2e93",
   "metadata": {},
   "outputs": [
    {
     "data": {
      "text/plain": [
       "0.6603502565919628"
      ]
     },
     "execution_count": 84,
     "metadata": {},
     "output_type": "execute_result"
    }
   ],
   "source": [
    "json_se.dot(other_qe)"
   ]
  },
  {
   "cell_type": "code",
   "execution_count": 86,
   "id": "754c1ed5",
   "metadata": {},
   "outputs": [],
   "source": [
    "sq1 = get_embedding('hitone chip-seq')\n",
    "sq2 = get_embedding('bernstein h3k4me3')\n",
    "sq3 = get_embedding('dnase-seq in mouse')"
   ]
  },
  {
   "cell_type": "code",
   "execution_count": 98,
   "id": "b2fd73bf",
   "metadata": {},
   "outputs": [],
   "source": [
    "sq4 = get_embedding('human k562 chip-seq')"
   ]
  },
  {
   "cell_type": "code",
   "execution_count": 101,
   "id": "4646d4fd",
   "metadata": {},
   "outputs": [],
   "source": [
    "sq5 = get_embedding('experiments from 2016')\n",
    "sq6 = get_embedding('experiments from 2021')"
   ]
  },
  {
   "cell_type": "code",
   "execution_count": 104,
   "id": "d50ed910",
   "metadata": {},
   "outputs": [],
   "source": [
    "sq7 = get_embedding('histone experiments with modifications')\n",
    "sq8 = get_embedding('histone experiments without modifications')"
   ]
  },
  {
   "cell_type": "code",
   "execution_count": 117,
   "id": "27acaaa9",
   "metadata": {},
   "outputs": [],
   "source": [
    "sq9 = get_embedding('rnaseq experiments in humans')"
   ]
  },
  {
   "cell_type": "code",
   "execution_count": 118,
   "id": "9cc13e15",
   "metadata": {},
   "outputs": [
    {
     "data": {
      "text/plain": [
       "array([0.80254325, 0.73394638, 0.76781338, 0.81651989, 0.76715129,\n",
       "       0.75394662, 0.78960473, 0.78593004, 0.80943841])"
      ]
     },
     "execution_count": 118,
     "metadata": {},
     "output_type": "execute_result"
    }
   ],
   "source": [
    "np.array([sq1, sq2, sq3, sq4, sq5, sq6, sq7, sq8, sq9]).dot(json_se)"
   ]
  },
  {
   "cell_type": "code",
   "execution_count": 94,
   "id": "37f09f69",
   "metadata": {},
   "outputs": [
    {
     "data": {
      "text/plain": [
       "\"assay_term_name is ChIP-seq, biosample_ontology is /biosample-types/cell_line_EFO_0002067/, documents is [], accession is ENCSR668LDD, dbxrefs is ['GEO:GSE96303'], date_released is 2016-11-08, doi is 10.17989/ENCSR668LDD, internal_tags is ['ccre_inputv1', 'ENCYCLOPEDIAv1', 'RegulomeDB_2_2', 'ENCYCLOPEDIAv2'], lab is /labs/bradley-bernstein/, award is /awards/U54HG006991/, aliases is ['bradley-bernstein:Project Element 96'], target is /targets/H3K4me3-human/, assay_title is Histone ChIP-seq, assay_slims is ['DNA binding'], biosample_summary is Homo sapiens K562, assay_term_id is OBI:0000716, @id is /experiments/ENCSR668LDD/, @type is ['Experiment', 'Dataset', 'Item'], uuid is 934eed39-3a71-403c-85d0-d7b055f1269b, assembly is ['GRCh38', 'hg19'], hub is /experiments/ENCSR668LDD/@@hub/hub.txt, default_analysis is /analyses/ENCAN646APS/, life_stage_age is adult 53 years, perturbed is False\""
      ]
     },
     "execution_count": 94,
     "metadata": {},
     "output_type": "execute_result"
    }
   ],
   "source": [
    "', '.join([f'{k} is {v}' for k, v in experiment_json.items()])"
   ]
  },
  {
   "cell_type": "code",
   "execution_count": 95,
   "id": "6a1356a8",
   "metadata": {},
   "outputs": [],
   "source": [
    "qe1 = get_embedding(', '.join([f'{k} is {v}' for k, v in experiment_json.items()]))"
   ]
  },
  {
   "cell_type": "code",
   "execution_count": 106,
   "id": "6f9ff25c",
   "metadata": {},
   "outputs": [
    {
     "data": {
      "text/plain": [
       "array([0.81035421, 0.73668   , 0.76648463, 0.83231609, 0.74976241,\n",
       "       0.73861326, 0.78623521, 0.78088318])"
      ]
     },
     "execution_count": 106,
     "metadata": {},
     "output_type": "execute_result"
    }
   ],
   "source": [
    "np.array([sq1, sq2, sq3, sq4, sq5, sq6, sq7, sq8]).dot(qe1)"
   ]
  },
  {
   "cell_type": "code",
   "execution_count": 109,
   "id": "b3f5c6b7",
   "metadata": {},
   "outputs": [],
   "source": [
    "qe2 = get_embedding('\\n'.join([f'{k} is {v}' for k, v in experiment_json.items()]))"
   ]
  },
  {
   "cell_type": "code",
   "execution_count": 110,
   "id": "5dc3b34b",
   "metadata": {},
   "outputs": [
    {
     "data": {
      "text/plain": [
       "array([-0.03783723,  0.01904208, -0.01407578, ..., -0.01706654,\n",
       "       -0.01935762, -0.03377638])"
      ]
     },
     "execution_count": 110,
     "metadata": {},
     "output_type": "execute_result"
    }
   ],
   "source": [
    "qe2"
   ]
  },
  {
   "cell_type": "code",
   "execution_count": 111,
   "id": "9350bb3a",
   "metadata": {},
   "outputs": [
    {
     "data": {
      "text/plain": [
       "array([0.80412292, 0.7234614 , 0.75828566, 0.82241037, 0.74127714,\n",
       "       0.73066543, 0.77568972, 0.7720825 ])"
      ]
     },
     "execution_count": 111,
     "metadata": {},
     "output_type": "execute_result"
    }
   ],
   "source": [
    "np.array([sq1, sq2, sq3, sq4, sq5, sq6, sq7, sq8]).dot(qe2)"
   ]
  },
  {
   "cell_type": "code",
   "execution_count": 114,
   "id": "a8fc3667",
   "metadata": {},
   "outputs": [],
   "source": [
    "import json\n",
    "de1 = get_embedding(json.dumps(rna_experiment_json))"
   ]
  },
  {
   "cell_type": "code",
   "execution_count": 119,
   "id": "253fc174",
   "metadata": {},
   "outputs": [
    {
     "data": {
      "text/plain": [
       "array([0.76879342, 0.72376057, 0.75531387, 0.80018248, 0.76546465,\n",
       "       0.75072645, 0.76948263, 0.76973566, 0.81039042])"
      ]
     },
     "execution_count": 119,
     "metadata": {},
     "output_type": "execute_result"
    }
   ],
   "source": [
    "np.array([sq1, sq2, sq3, sq4, sq5, sq6, sq7, sq8, sq9]).dot(de1)"
   ]
  },
  {
   "cell_type": "code",
   "execution_count": 132,
   "id": "a0314cb2",
   "metadata": {
    "scrolled": false
   },
   "outputs": [],
   "source": [
    "sq10 = get_embedding('ENCFF536AWU')"
   ]
  },
  {
   "cell_type": "code",
   "execution_count": 133,
   "id": "36c735fa",
   "metadata": {},
   "outputs": [
    {
     "data": {
      "text/plain": [
       "0.7235610595533178"
      ]
     },
     "execution_count": 133,
     "metadata": {},
     "output_type": "execute_result"
    }
   ],
   "source": [
    "sq10.dot(de1)"
   ]
  },
  {
   "cell_type": "code",
   "execution_count": 134,
   "id": "c3796324",
   "metadata": {},
   "outputs": [
    {
     "data": {
      "text/plain": [
       "array([0.72539142, 0.72356106, 0.73523376])"
      ]
     },
     "execution_count": 134,
     "metadata": {},
     "output_type": "execute_result"
    }
   ],
   "source": [
    "np.array([qe2, de1, json_se]).dot(sq10)"
   ]
  },
  {
   "cell_type": "code",
   "execution_count": null,
   "id": "a332735b",
   "metadata": {},
   "outputs": [],
   "source": []
  },
  {
   "cell_type": "code",
   "execution_count": 112,
   "id": "399fa775",
   "metadata": {},
   "outputs": [],
   "source": [
    "rna_experiment_json = {\n",
    "  \"assay_term_name\": \"RNA-seq\",\n",
    "  \"biosample_ontology\": \"/biosample-types/cell_line_EFO_0002067/\",\n",
    "  \"documents\": [\n",
    "    \"/documents/b7614f73-ed27-41d0-8325-3731f74d2be8/\",\n",
    "    \"/documents/c12cbfbc-a858-4b6d-ad10-a4fc84d6d4bf/\"\n",
    "  ],\n",
    "  \"references\": [\n",
    "    \n",
    "  ],\n",
    "  \"schema_version\": \"37\",\n",
    "  \"accession\": \"ENCSR115PIZ\",\n",
    "  \"alternate_accessions\": [\n",
    "    \n",
    "  ],\n",
    "  \"analyses\": [\n",
    "    \"/analyses/ENCAN087GQB/\"\n",
    "  ],\n",
    "  \"description\": \"Homo sapiens K562 treated with Chaetocin for 48 hours\",\n",
    "  \"dbxrefs\": [\n",
    "    \"GEO:GSE219476\"\n",
    "  ],\n",
    "  \"date_released\": \"2022-02-17\",\n",
    "  \"doi\": \"10.17989/ENCSR115PIZ\",\n",
    "  \"internal_tags\": [\n",
    "    \n",
    "  ],\n",
    "  \"status\": \"released\",\n",
    "  \"date_created\": \"2021-12-07T14:17:27.839124+00:00\",\n",
    "  \"submitted_by\": \"/users/9e077d38-a99b-4f84-8c79-6c75cf505731/\",\n",
    "  \"lab\": \"/labs/will-greenleaf/\",\n",
    "  \"award\": \"/awards/UM1HG009436/\",\n",
    "  \"aliases\": [\n",
    "    \"will-greenleaf:K562_Chaetocin_48\"\n",
    "  ],\n",
    "  \"possible_controls\": [\n",
    "    \n",
    "  ],\n",
    "  \"supersedes\": [\n",
    "    \n",
    "  ],\n",
    "  \"related_files\": [\n",
    "    \n",
    "  ],\n",
    "  \"internal_status\": \"release ready\",\n",
    "  \"bio_replicate_count\": 2,\n",
    "  \"tech_replicate_count\": 2,\n",
    "  \"replication_type\": \"isogenic\",\n",
    "  \"objective_slims\": [\n",
    "    \n",
    "  ],\n",
    "  \"type_slims\": [\n",
    "    \n",
    "  ],\n",
    "  \"category_slims\": [\n",
    "    \n",
    "  ],\n",
    "  \"assay_title\": \"total RNA-seq\",\n",
    "  \"assay_slims\": [\n",
    "    \"Transcription\"\n",
    "  ],\n",
    "  \"replicates\": [\n",
    "    \"/replicates/03b0c30b-b65d-4a57-a866-c2a306b04161/\",\n",
    "    \"/replicates/747b8efb-576a-4c88-a38d-6ffa9a8133f2/\"\n",
    "  ],\n",
    "  \"simple_biosample_summary\": \"treated with 10 nM Chaetocin for 48 hours\",\n",
    "  \"biosample_summary\": \"Homo sapiens K562 treated with 10 nM Chaetocin for 48 hours\",\n",
    "  \"assay_term_id\": \"OBI:0001271\",\n",
    "  \"@id\": \"/experiments/ENCSR115PIZ/\",\n",
    "  \"@type\": [\n",
    "    \"Experiment\",\n",
    "    \"Dataset\",\n",
    "    \"Item\"\n",
    "  ],\n",
    "  \"uuid\": \"71e7a555-b27a-4b35-92f3-10c0b5a1fa87\",\n",
    "  \"original_files\": [\n",
    "    \"/files/ENCFF089UOR/\",\n",
    "    \"/files/ENCFF988OKV/\",\n",
    "    \"/files/ENCFF536AWU/\",\n",
    "    \"/files/ENCFF812STJ/\",\n",
    "    \"/files/ENCFF883AKC/\",\n",
    "    \"/files/ENCFF286KKZ/\",\n",
    "    \"/files/ENCFF646ADP/\",\n",
    "    \"/files/ENCFF227LIQ/\",\n",
    "    \"/files/ENCFF934XOC/\",\n",
    "    \"/files/ENCFF413AFV/\",\n",
    "    \"/files/ENCFF829LCN/\",\n",
    "    \"/files/ENCFF520EBC/\",\n",
    "    \"/files/ENCFF361SIG/\",\n",
    "    \"/files/ENCFF704MIL/\",\n",
    "    \"/files/ENCFF132EEP/\",\n",
    "    \"/files/ENCFF165DQJ/\",\n",
    "    \"/files/ENCFF347IVK/\",\n",
    "    \"/files/ENCFF189YJW/\"\n",
    "  ],\n",
    "  \"contributing_files\": [\n",
    "    \"/files/ENCFF471EAM/\",\n",
    "    \"/files/GRCh38_EBV.chrom.sizes/\",\n",
    "    \"/files/ENCFF285DRD/\",\n",
    "    \"/files/ENCFF598IDH/\"\n",
    "  ],\n",
    "  \"files\": [\n",
    "    \"/files/ENCFF089UOR/\",\n",
    "    \"/files/ENCFF988OKV/\",\n",
    "    \"/files/ENCFF536AWU/\",\n",
    "    \"/files/ENCFF812STJ/\",\n",
    "    \"/files/ENCFF883AKC/\",\n",
    "    \"/files/ENCFF286KKZ/\",\n",
    "    \"/files/ENCFF646ADP/\",\n",
    "    \"/files/ENCFF227LIQ/\",\n",
    "    \"/files/ENCFF934XOC/\",\n",
    "    \"/files/ENCFF413AFV/\",\n",
    "    \"/files/ENCFF829LCN/\",\n",
    "    \"/files/ENCFF520EBC/\",\n",
    "    \"/files/ENCFF361SIG/\",\n",
    "    \"/files/ENCFF704MIL/\",\n",
    "    \"/files/ENCFF132EEP/\",\n",
    "    \"/files/ENCFF165DQJ/\",\n",
    "    \"/files/ENCFF347IVK/\",\n",
    "    \"/files/ENCFF189YJW/\"\n",
    "  ],\n",
    "  \"revoked_files\": [\n",
    "    \n",
    "  ],\n",
    "  \"assembly\": [\n",
    "    \"GRCh38\"\n",
    "  ],\n",
    "  \"hub\": \"/experiments/ENCSR115PIZ/@@hub/hub.txt\",\n",
    "  \"default_analysis\": \"/analyses/ENCAN087GQB/\",\n",
    "  \"related_series\": [\n",
    "    \"/treatment-time-series/ENCSR075MHG/\"\n",
    "  ],\n",
    "  \"superseded_by\": [\n",
    "    \n",
    "  ],\n",
    "  \"related_annotations\": [\n",
    "    \n",
    "  ],\n",
    "  \"life_stage_age\": \"adult 53 years\",\n",
    "  \"perturbed\": False\n",
    "}"
   ]
  },
  {
   "cell_type": "code",
   "execution_count": null,
   "id": "d39b09d2",
   "metadata": {},
   "outputs": [],
   "source": [
    "How to keep track of numpy indices?\n",
    "Should embedded json or free text?"
   ]
  },
  {
   "cell_type": "code",
   "execution_count": null,
   "id": "0803e3de",
   "metadata": {},
   "outputs": [],
   "source": []
  }
 ],
 "metadata": {
  "kernelspec": {
   "display_name": "Python 3 (ipykernel)",
   "language": "python",
   "name": "python3"
  },
  "language_info": {
   "codemirror_mode": {
    "name": "ipython",
    "version": 3
   },
   "file_extension": ".py",
   "mimetype": "text/x-python",
   "name": "python",
   "nbconvert_exporter": "python",
   "pygments_lexer": "ipython3",
   "version": "3.10.10"
  }
 },
 "nbformat": 4,
 "nbformat_minor": 5
}
